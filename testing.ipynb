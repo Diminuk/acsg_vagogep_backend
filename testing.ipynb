{
 "cells": [
  {
   "cell_type": "code",
   "execution_count": 30,
   "metadata": {},
   "outputs": [
    {
     "name": "stdout",
     "output_type": "stream",
     "text": [
      "idle\n",
      "Knife up first command\n",
      "knife_up_first\n",
      "Infra start command\n",
      "infra\n",
      "Feed forward command\n",
      "feed_forward\n",
      "Cut command\n",
      "knife_down\n",
      "Knife up second command\n"
     ]
    }
   ],
   "source": [
    "from transitions import Machine\n",
    "\n",
    "class MyStateMachine(object):\n",
    "    states = [\n",
    "                'idle', \n",
    "                'knife_up_first',\n",
    "                'infra', \n",
    "                'feed_forward',\n",
    "                'knife_down',\n",
    "                'knife_up_second',\n",
    "\n",
    "                'paused',\n",
    "                'stopped']\n",
    "\n",
    "    def __init__(self):\n",
    "        self.machine = Machine(model=self, states=MyStateMachine.states, initial='idle')\n",
    "        self.previous_state = None  # Store the previous state\n",
    "        self.machine.add_transition('start', 'idle', 'knife_up_first',before='print_state', after='knife_up_first_command')\n",
    "        self.machine.add_transition('infra_start', 'knife_up_first', 'infra',before='print_state', after='infra_start_command')\n",
    "        self.machine.add_transition('infra_complete', 'infra', 'feed_forward',before='print_state', after='feed_forward_command')\n",
    "        self.machine.add_transition('feed_complete', 'feed_forward', 'knife_down',before='print_state', after='cut_command')\n",
    "        self.machine.add_transition('knife_down_complete', 'knife_down', 'knife_up_second',before='print_state', after=\"knife_up_second_command\")\n",
    "        self.machine.add_transition('pause', '*', 'paused',before='store_previous_state') \n",
    "        self.machine.add_transition('resume', 'paused', self.previous_state)  \n",
    "        self.machine.add_transition('stop', '*', 'stopped')\n",
    "        self.machine.add_transition('to_idle',['stopped','knife_up_second'],'idle')\n",
    "\n",
    "    def store_previous_state(self):\n",
    "        self.previous_state = self.state\n",
    "\n",
    "    def print_state(self):\n",
    "        print(self.state)\n",
    "\n",
    "    def load_command(self):\n",
    "        print('Load command')\n",
    "        self.knife_up()\n",
    "\n",
    "    def knife_up_first_command(self):\n",
    "        print(\"Knife up first command\")\n",
    "        self.infra_start()\n",
    "\n",
    "    def infra_start_command(self):\n",
    "        print(\"Infra start command\")\n",
    "\n",
    "        self.infra_complete()\n",
    "\n",
    "    def feed_forward_command(self):\n",
    "        print(\"Feed forward command\")\n",
    "\n",
    "        self.feed_complete()\n",
    "\n",
    "    def cut_command(self):\n",
    "        print(\"Cut command\")\n",
    "\n",
    "        self.knife_down_complete()\n",
    "\n",
    "    def knife_up_second_command(self):\n",
    "        print(\"Knife up second command\")\n",
    "\n",
    "        self.to_idle()\n",
    "\n",
    "\n",
    "\n",
    "\n",
    "# Example usage:\n",
    "if __name__ == \"__main__\":\n",
    "    my_machine = MyStateMachine()\n",
    "    my_machine.start()\n"
   ]
  },
  {
   "cell_type": "code",
   "execution_count": 31,
   "metadata": {},
   "outputs": [
    {
     "name": "stdout",
     "output_type": "stream",
     "text": [
      "idle\n"
     ]
    }
   ],
   "source": [
    "print(my_machine.state)"
   ]
  },
  {
   "cell_type": "code",
   "execution_count": 1,
   "metadata": {},
   "outputs": [
    {
     "name": "stdout",
     "output_type": "stream",
     "text": [
      "Neither /dev/ttyACM1 nor /dev/ttyCH340USB1 is present\n",
      "Neither /dev/ttyACM1 nor /dev/ttyCH340USB1 is present\n",
      "Neither /dev/ttyACM1 nor /dev/ttyCH340USB1 is present\n",
      "open serial port error could not open port 'COM14': PermissionError(13, 'A hozzáférés megtagadva.', None, 5)\n"
     ]
    },
    {
     "ename": "NoResponseError",
     "evalue": "No communication with the instrument (no answer)",
     "output_type": "error",
     "traceback": [
      "\u001b[1;31m---------------------------------------------------------------------------\u001b[0m",
      "\u001b[1;31mNoResponseError\u001b[0m                           Traceback (most recent call last)",
      "Cell \u001b[1;32mIn[1], line 12\u001b[0m\n\u001b[0;32m     10\u001b[0m backend_variables\u001b[38;5;241m.\u001b[39mmyservo\u001b[38;5;241m.\u001b[39mpoll_eop()\n\u001b[0;32m     11\u001b[0m backend_variables\u001b[38;5;241m.\u001b[39mmyrelay\u001b[38;5;241m.\u001b[39mturn_off_relay(\u001b[38;5;241m0\u001b[39m)\n\u001b[1;32m---> 12\u001b[0m \u001b[43mbackend_variables\u001b[49m\u001b[38;5;241;43m.\u001b[39;49m\u001b[43mmyinfra\u001b[49m\u001b[38;5;241;43m.\u001b[39;49m\u001b[43mturn_infra\u001b[49m\u001b[43m(\u001b[49m\u001b[38;5;28;43;01mTrue\u001b[39;49;00m\u001b[43m)\u001b[49m\n\u001b[0;32m     14\u001b[0m data \u001b[38;5;241m=\u001b[39m [\n\u001b[0;32m     15\u001b[0m     \u001b[38;5;241m6\u001b[39m, \u001b[38;5;66;03m#spd\u001b[39;00m\n\u001b[0;32m     16\u001b[0m     \u001b[38;5;241m6\u001b[39m, \u001b[38;5;66;03m#acc\u001b[39;00m\n\u001b[1;32m   (...)\u001b[0m\n\u001b[0;32m     21\u001b[0m     \u001b[38;5;241m1\u001b[39m, \u001b[38;5;66;03m#infra delay\u001b[39;00m\n\u001b[0;32m     22\u001b[0m ]\n",
      "File \u001b[1;32mc:\\Users\\ACSG\\Documents\\Python Scripts\\acsg_vagogep\\backend\\./infra_control\\infra_control.py:48\u001b[0m, in \u001b[0;36minfra.turn_infra\u001b[1;34m(self, value)\u001b[0m\n\u001b[0;32m     46\u001b[0m     \u001b[38;5;28;01mreturn\u001b[39;00m \u001b[38;5;28;01mFalse\u001b[39;00m \n\u001b[0;32m     47\u001b[0m \u001b[38;5;28;01mif\u001b[39;00m value:\n\u001b[1;32m---> 48\u001b[0m     \u001b[38;5;28;43mself\u001b[39;49m\u001b[38;5;241;43m.\u001b[39;49m\u001b[43mdriver\u001b[49m\u001b[38;5;241;43m.\u001b[39;49m\u001b[43mwrite_register\u001b[49m\u001b[43m(\u001b[49m\u001b[38;5;241;43m100\u001b[39;49m\u001b[43m,\u001b[49m\u001b[38;5;241;43m1\u001b[39;49m\u001b[43m)\u001b[49m\n\u001b[0;32m     49\u001b[0m \u001b[38;5;28;01melse\u001b[39;00m:\n\u001b[0;32m     50\u001b[0m     \u001b[38;5;28mself\u001b[39m\u001b[38;5;241m.\u001b[39mdriver\u001b[38;5;241m.\u001b[39mwrite_register(\u001b[38;5;241m100\u001b[39m,\u001b[38;5;241m0\u001b[39m)\n",
      "File \u001b[1;32mc:\\Users\\ACSG\\Documents\\Python Scripts\\acsg_vagogep\\backend\\.venv\\Lib\\site-packages\\minimalmodbus.py:552\u001b[0m, in \u001b[0;36mInstrument.write_register\u001b[1;34m(self, registeraddress, value, number_of_decimals, functioncode, signed)\u001b[0m\n\u001b[0;32m    549\u001b[0m _check_bool(signed, description\u001b[38;5;241m=\u001b[39m\u001b[38;5;124m\"\u001b[39m\u001b[38;5;124msigned\u001b[39m\u001b[38;5;124m\"\u001b[39m)\n\u001b[0;32m    550\u001b[0m _check_numerical(value, description\u001b[38;5;241m=\u001b[39m\u001b[38;5;124m\"\u001b[39m\u001b[38;5;124minput value\u001b[39m\u001b[38;5;124m\"\u001b[39m)\n\u001b[1;32m--> 552\u001b[0m \u001b[38;5;28;43mself\u001b[39;49m\u001b[38;5;241;43m.\u001b[39;49m\u001b[43m_generic_command\u001b[49m\u001b[43m(\u001b[49m\n\u001b[0;32m    553\u001b[0m \u001b[43m    \u001b[49m\u001b[43mfunctioncode\u001b[49m\u001b[43m,\u001b[49m\n\u001b[0;32m    554\u001b[0m \u001b[43m    \u001b[49m\u001b[43mregisteraddress\u001b[49m\u001b[43m,\u001b[49m\n\u001b[0;32m    555\u001b[0m \u001b[43m    \u001b[49m\u001b[43mvalue\u001b[49m\u001b[43m,\u001b[49m\n\u001b[0;32m    556\u001b[0m \u001b[43m    \u001b[49m\u001b[43mnumber_of_decimals\u001b[49m\u001b[38;5;241;43m=\u001b[39;49m\u001b[43mnumber_of_decimals\u001b[49m\u001b[43m,\u001b[49m\n\u001b[0;32m    557\u001b[0m \u001b[43m    \u001b[49m\u001b[43mnumber_of_registers\u001b[49m\u001b[38;5;241;43m=\u001b[39;49m\u001b[38;5;241;43m1\u001b[39;49m\u001b[43m,\u001b[49m\n\u001b[0;32m    558\u001b[0m \u001b[43m    \u001b[49m\u001b[43msigned\u001b[49m\u001b[38;5;241;43m=\u001b[39;49m\u001b[43msigned\u001b[49m\u001b[43m,\u001b[49m\n\u001b[0;32m    559\u001b[0m \u001b[43m    \u001b[49m\u001b[43mpayloadformat\u001b[49m\u001b[38;5;241;43m=\u001b[39;49m\u001b[43m_Payloadformat\u001b[49m\u001b[38;5;241;43m.\u001b[39;49m\u001b[43mREGISTER\u001b[49m\u001b[43m,\u001b[49m\n\u001b[0;32m    560\u001b[0m \u001b[43m\u001b[49m\u001b[43m)\u001b[49m\n",
      "File \u001b[1;32mc:\\Users\\ACSG\\Documents\\Python Scripts\\acsg_vagogep\\backend\\.venv\\Lib\\site-packages\\minimalmodbus.py:1276\u001b[0m, in \u001b[0;36mInstrument._generic_command\u001b[1;34m(self, functioncode, registeraddress, value, number_of_decimals, number_of_registers, number_of_bits, signed, byteorder, payloadformat)\u001b[0m\n\u001b[0;32m   1263\u001b[0m payload_to_slave \u001b[38;5;241m=\u001b[39m _create_payload(\n\u001b[0;32m   1264\u001b[0m     functioncode,\n\u001b[0;32m   1265\u001b[0m     registeraddress,\n\u001b[1;32m   (...)\u001b[0m\n\u001b[0;32m   1272\u001b[0m     payloadformat,\n\u001b[0;32m   1273\u001b[0m )\n\u001b[0;32m   1275\u001b[0m \u001b[38;5;66;03m# Communicate with instrument\u001b[39;00m\n\u001b[1;32m-> 1276\u001b[0m payload_from_slave \u001b[38;5;241m=\u001b[39m \u001b[38;5;28;43mself\u001b[39;49m\u001b[38;5;241;43m.\u001b[39;49m\u001b[43m_perform_command\u001b[49m\u001b[43m(\u001b[49m\u001b[43mfunctioncode\u001b[49m\u001b[43m,\u001b[49m\u001b[43m \u001b[49m\u001b[43mpayload_to_slave\u001b[49m\u001b[43m)\u001b[49m\n\u001b[0;32m   1278\u001b[0m \u001b[38;5;66;03m# There is no response for broadcasts\u001b[39;00m\n\u001b[0;32m   1279\u001b[0m \u001b[38;5;28;01mif\u001b[39;00m \u001b[38;5;28mself\u001b[39m\u001b[38;5;241m.\u001b[39maddress \u001b[38;5;241m==\u001b[39m _SLAVEADDRESS_BROADCAST:\n",
      "File \u001b[1;32mc:\\Users\\ACSG\\Documents\\Python Scripts\\acsg_vagogep\\backend\\.venv\\Lib\\site-packages\\minimalmodbus.py:1353\u001b[0m, in \u001b[0;36mInstrument._perform_command\u001b[1;34m(self, functioncode, payload_to_slave)\u001b[0m\n\u001b[0;32m   1346\u001b[0m             \u001b[38;5;28mself\u001b[39m\u001b[38;5;241m.\u001b[39m_print_debug(\n\u001b[0;32m   1347\u001b[0m                 template\u001b[38;5;241m.\u001b[39mformat(\n\u001b[0;32m   1348\u001b[0m                     \u001b[38;5;28mself\u001b[39m\u001b[38;5;241m.\u001b[39mmode, number_of_bytes_to_read, request_bytes\n\u001b[0;32m   1349\u001b[0m                 )\n\u001b[0;32m   1350\u001b[0m             )\n\u001b[0;32m   1352\u001b[0m \u001b[38;5;66;03m# Communicate\u001b[39;00m\n\u001b[1;32m-> 1353\u001b[0m response_bytes \u001b[38;5;241m=\u001b[39m \u001b[38;5;28;43mself\u001b[39;49m\u001b[38;5;241;43m.\u001b[39;49m\u001b[43m_communicate\u001b[49m\u001b[43m(\u001b[49m\u001b[43mrequest_bytes\u001b[49m\u001b[43m,\u001b[49m\u001b[43m \u001b[49m\u001b[43mnumber_of_bytes_to_read\u001b[49m\u001b[43m)\u001b[49m\n\u001b[0;32m   1355\u001b[0m \u001b[38;5;28;01mif\u001b[39;00m number_of_bytes_to_read \u001b[38;5;241m==\u001b[39m \u001b[38;5;241m0\u001b[39m:\n\u001b[0;32m   1356\u001b[0m     \u001b[38;5;28;01mreturn\u001b[39;00m \u001b[38;5;124mb\u001b[39m\u001b[38;5;124m\"\u001b[39m\u001b[38;5;124m\"\u001b[39m\n",
      "File \u001b[1;32mc:\\Users\\ACSG\\Documents\\Python Scripts\\acsg_vagogep\\backend\\.venv\\Lib\\site-packages\\minimalmodbus.py:1521\u001b[0m, in \u001b[0;36mInstrument._communicate\u001b[1;34m(self, request, number_of_bytes_to_read)\u001b[0m\n\u001b[0;32m   1518\u001b[0m     \u001b[38;5;28mself\u001b[39m\u001b[38;5;241m.\u001b[39m_print_debug(text)\n\u001b[0;32m   1520\u001b[0m \u001b[38;5;28;01mif\u001b[39;00m \u001b[38;5;129;01mnot\u001b[39;00m answer \u001b[38;5;129;01mand\u001b[39;00m number_of_bytes_to_read \u001b[38;5;241m>\u001b[39m \u001b[38;5;241m0\u001b[39m:\n\u001b[1;32m-> 1521\u001b[0m     \u001b[38;5;28;01mraise\u001b[39;00m NoResponseError(\u001b[38;5;124m\"\u001b[39m\u001b[38;5;124mNo communication with the instrument (no answer)\u001b[39m\u001b[38;5;124m\"\u001b[39m)\n\u001b[0;32m   1523\u001b[0m \u001b[38;5;28;01mif\u001b[39;00m number_of_bytes_to_read \u001b[38;5;241m==\u001b[39m \u001b[38;5;241m0\u001b[39m:\n\u001b[0;32m   1524\u001b[0m     \u001b[38;5;28mself\u001b[39m\u001b[38;5;241m.\u001b[39m_print_debug(\n\u001b[0;32m   1525\u001b[0m         \u001b[38;5;124m\"\u001b[39m\u001b[38;5;124mBroadcast delay: Sleeping for \u001b[39m\u001b[38;5;132;01m{}\u001b[39;00m\u001b[38;5;124m s\u001b[39m\u001b[38;5;124m\"\u001b[39m\u001b[38;5;241m.\u001b[39mformat(_BROADCAST_DELAY)\n\u001b[0;32m   1526\u001b[0m     )\n",
      "\u001b[1;31mNoResponseError\u001b[0m: No communication with the instrument (no answer)"
     ]
    }
   ],
   "source": [
    "from ProcessLogic import cut_process\n",
    "import numpy as np\n",
    "import backend_variables\n",
    "\n",
    "backend_variables.init()\n",
    "\n",
    "backend_variables.myinfra.begin()\n",
    "backend_variables.myrelay.begin()\n",
    "backend_variables.myservo.begin()\n",
    "backend_variables.myservo.poll_eop()\n",
    "backend_variables.myrelay.turn_off_relay(0)\n",
    "backend_variables.myinfra.turn_infra(True)\n",
    "\n",
    "data = [\n",
    "    6, #spd\n",
    "    6, #acc\n",
    "    6, #dec\n",
    "    100, #length\n",
    "    500, #cut delay\n",
    "    30, #infra percent\n",
    "    1, #infra delay\n",
    "]\n"
   ]
  },
  {
   "cell_type": "code",
   "execution_count": 10,
   "metadata": {},
   "outputs": [
    {
     "ename": "NoResponseError",
     "evalue": "No communication with the instrument (no answer)",
     "output_type": "error",
     "traceback": [
      "\u001b[1;31m---------------------------------------------------------------------------\u001b[0m",
      "\u001b[1;31mNoResponseError\u001b[0m                           Traceback (most recent call last)",
      "Cell \u001b[1;32mIn[10], line 2\u001b[0m\n\u001b[0;32m      1\u001b[0m backend_variables\u001b[38;5;241m.\u001b[39mmyinfra\u001b[38;5;241m.\u001b[39mbegin()\n\u001b[1;32m----> 2\u001b[0m \u001b[43mbackend_variables\u001b[49m\u001b[38;5;241;43m.\u001b[39;49m\u001b[43mmyinfra\u001b[49m\u001b[38;5;241;43m.\u001b[39;49m\u001b[43mturn_infra\u001b[49m\u001b[43m(\u001b[49m\u001b[38;5;28;43;01mFalse\u001b[39;49;00m\u001b[43m)\u001b[49m\n",
      "File \u001b[1;32mc:\\Users\\ACSG\\Documents\\Python Scripts\\acsg_vagogep\\backend\\./infra_control\\infra_control.py:50\u001b[0m, in \u001b[0;36minfra.turn_infra\u001b[1;34m(self, value)\u001b[0m\n\u001b[0;32m     48\u001b[0m     \u001b[38;5;28mself\u001b[39m\u001b[38;5;241m.\u001b[39mdriver\u001b[38;5;241m.\u001b[39mwrite_register(\u001b[38;5;241m100\u001b[39m,\u001b[38;5;241m1\u001b[39m)\n\u001b[0;32m     49\u001b[0m \u001b[38;5;28;01melse\u001b[39;00m:\n\u001b[1;32m---> 50\u001b[0m     \u001b[38;5;28;43mself\u001b[39;49m\u001b[38;5;241;43m.\u001b[39;49m\u001b[43mdriver\u001b[49m\u001b[38;5;241;43m.\u001b[39;49m\u001b[43mwrite_register\u001b[49m\u001b[43m(\u001b[49m\u001b[38;5;241;43m100\u001b[39;49m\u001b[43m,\u001b[49m\u001b[38;5;241;43m0\u001b[39;49m\u001b[43m)\u001b[49m\n\u001b[0;32m     51\u001b[0m \u001b[38;5;28;01mreturn\u001b[39;00m \u001b[38;5;28;01mTrue\u001b[39;00m\n",
      "File \u001b[1;32mc:\\Users\\ACSG\\Documents\\Python Scripts\\acsg_vagogep\\backend\\.venv\\Lib\\site-packages\\minimalmodbus.py:552\u001b[0m, in \u001b[0;36mInstrument.write_register\u001b[1;34m(self, registeraddress, value, number_of_decimals, functioncode, signed)\u001b[0m\n\u001b[0;32m    549\u001b[0m _check_bool(signed, description\u001b[38;5;241m=\u001b[39m\u001b[38;5;124m\"\u001b[39m\u001b[38;5;124msigned\u001b[39m\u001b[38;5;124m\"\u001b[39m)\n\u001b[0;32m    550\u001b[0m _check_numerical(value, description\u001b[38;5;241m=\u001b[39m\u001b[38;5;124m\"\u001b[39m\u001b[38;5;124minput value\u001b[39m\u001b[38;5;124m\"\u001b[39m)\n\u001b[1;32m--> 552\u001b[0m \u001b[38;5;28;43mself\u001b[39;49m\u001b[38;5;241;43m.\u001b[39;49m\u001b[43m_generic_command\u001b[49m\u001b[43m(\u001b[49m\n\u001b[0;32m    553\u001b[0m \u001b[43m    \u001b[49m\u001b[43mfunctioncode\u001b[49m\u001b[43m,\u001b[49m\n\u001b[0;32m    554\u001b[0m \u001b[43m    \u001b[49m\u001b[43mregisteraddress\u001b[49m\u001b[43m,\u001b[49m\n\u001b[0;32m    555\u001b[0m \u001b[43m    \u001b[49m\u001b[43mvalue\u001b[49m\u001b[43m,\u001b[49m\n\u001b[0;32m    556\u001b[0m \u001b[43m    \u001b[49m\u001b[43mnumber_of_decimals\u001b[49m\u001b[38;5;241;43m=\u001b[39;49m\u001b[43mnumber_of_decimals\u001b[49m\u001b[43m,\u001b[49m\n\u001b[0;32m    557\u001b[0m \u001b[43m    \u001b[49m\u001b[43mnumber_of_registers\u001b[49m\u001b[38;5;241;43m=\u001b[39;49m\u001b[38;5;241;43m1\u001b[39;49m\u001b[43m,\u001b[49m\n\u001b[0;32m    558\u001b[0m \u001b[43m    \u001b[49m\u001b[43msigned\u001b[49m\u001b[38;5;241;43m=\u001b[39;49m\u001b[43msigned\u001b[49m\u001b[43m,\u001b[49m\n\u001b[0;32m    559\u001b[0m \u001b[43m    \u001b[49m\u001b[43mpayloadformat\u001b[49m\u001b[38;5;241;43m=\u001b[39;49m\u001b[43m_Payloadformat\u001b[49m\u001b[38;5;241;43m.\u001b[39;49m\u001b[43mREGISTER\u001b[49m\u001b[43m,\u001b[49m\n\u001b[0;32m    560\u001b[0m \u001b[43m\u001b[49m\u001b[43m)\u001b[49m\n",
      "File \u001b[1;32mc:\\Users\\ACSG\\Documents\\Python Scripts\\acsg_vagogep\\backend\\.venv\\Lib\\site-packages\\minimalmodbus.py:1276\u001b[0m, in \u001b[0;36mInstrument._generic_command\u001b[1;34m(self, functioncode, registeraddress, value, number_of_decimals, number_of_registers, number_of_bits, signed, byteorder, payloadformat)\u001b[0m\n\u001b[0;32m   1263\u001b[0m payload_to_slave \u001b[38;5;241m=\u001b[39m _create_payload(\n\u001b[0;32m   1264\u001b[0m     functioncode,\n\u001b[0;32m   1265\u001b[0m     registeraddress,\n\u001b[1;32m   (...)\u001b[0m\n\u001b[0;32m   1272\u001b[0m     payloadformat,\n\u001b[0;32m   1273\u001b[0m )\n\u001b[0;32m   1275\u001b[0m \u001b[38;5;66;03m# Communicate with instrument\u001b[39;00m\n\u001b[1;32m-> 1276\u001b[0m payload_from_slave \u001b[38;5;241m=\u001b[39m \u001b[38;5;28;43mself\u001b[39;49m\u001b[38;5;241;43m.\u001b[39;49m\u001b[43m_perform_command\u001b[49m\u001b[43m(\u001b[49m\u001b[43mfunctioncode\u001b[49m\u001b[43m,\u001b[49m\u001b[43m \u001b[49m\u001b[43mpayload_to_slave\u001b[49m\u001b[43m)\u001b[49m\n\u001b[0;32m   1278\u001b[0m \u001b[38;5;66;03m# There is no response for broadcasts\u001b[39;00m\n\u001b[0;32m   1279\u001b[0m \u001b[38;5;28;01mif\u001b[39;00m \u001b[38;5;28mself\u001b[39m\u001b[38;5;241m.\u001b[39maddress \u001b[38;5;241m==\u001b[39m _SLAVEADDRESS_BROADCAST:\n",
      "File \u001b[1;32mc:\\Users\\ACSG\\Documents\\Python Scripts\\acsg_vagogep\\backend\\.venv\\Lib\\site-packages\\minimalmodbus.py:1353\u001b[0m, in \u001b[0;36mInstrument._perform_command\u001b[1;34m(self, functioncode, payload_to_slave)\u001b[0m\n\u001b[0;32m   1346\u001b[0m             \u001b[38;5;28mself\u001b[39m\u001b[38;5;241m.\u001b[39m_print_debug(\n\u001b[0;32m   1347\u001b[0m                 template\u001b[38;5;241m.\u001b[39mformat(\n\u001b[0;32m   1348\u001b[0m                     \u001b[38;5;28mself\u001b[39m\u001b[38;5;241m.\u001b[39mmode, number_of_bytes_to_read, request_bytes\n\u001b[0;32m   1349\u001b[0m                 )\n\u001b[0;32m   1350\u001b[0m             )\n\u001b[0;32m   1352\u001b[0m \u001b[38;5;66;03m# Communicate\u001b[39;00m\n\u001b[1;32m-> 1353\u001b[0m response_bytes \u001b[38;5;241m=\u001b[39m \u001b[38;5;28;43mself\u001b[39;49m\u001b[38;5;241;43m.\u001b[39;49m\u001b[43m_communicate\u001b[49m\u001b[43m(\u001b[49m\u001b[43mrequest_bytes\u001b[49m\u001b[43m,\u001b[49m\u001b[43m \u001b[49m\u001b[43mnumber_of_bytes_to_read\u001b[49m\u001b[43m)\u001b[49m\n\u001b[0;32m   1355\u001b[0m \u001b[38;5;28;01mif\u001b[39;00m number_of_bytes_to_read \u001b[38;5;241m==\u001b[39m \u001b[38;5;241m0\u001b[39m:\n\u001b[0;32m   1356\u001b[0m     \u001b[38;5;28;01mreturn\u001b[39;00m \u001b[38;5;124mb\u001b[39m\u001b[38;5;124m\"\u001b[39m\u001b[38;5;124m\"\u001b[39m\n",
      "File \u001b[1;32mc:\\Users\\ACSG\\Documents\\Python Scripts\\acsg_vagogep\\backend\\.venv\\Lib\\site-packages\\minimalmodbus.py:1521\u001b[0m, in \u001b[0;36mInstrument._communicate\u001b[1;34m(self, request, number_of_bytes_to_read)\u001b[0m\n\u001b[0;32m   1518\u001b[0m     \u001b[38;5;28mself\u001b[39m\u001b[38;5;241m.\u001b[39m_print_debug(text)\n\u001b[0;32m   1520\u001b[0m \u001b[38;5;28;01mif\u001b[39;00m \u001b[38;5;129;01mnot\u001b[39;00m answer \u001b[38;5;129;01mand\u001b[39;00m number_of_bytes_to_read \u001b[38;5;241m>\u001b[39m \u001b[38;5;241m0\u001b[39m:\n\u001b[1;32m-> 1521\u001b[0m     \u001b[38;5;28;01mraise\u001b[39;00m NoResponseError(\u001b[38;5;124m\"\u001b[39m\u001b[38;5;124mNo communication with the instrument (no answer)\u001b[39m\u001b[38;5;124m\"\u001b[39m)\n\u001b[0;32m   1523\u001b[0m \u001b[38;5;28;01mif\u001b[39;00m number_of_bytes_to_read \u001b[38;5;241m==\u001b[39m \u001b[38;5;241m0\u001b[39m:\n\u001b[0;32m   1524\u001b[0m     \u001b[38;5;28mself\u001b[39m\u001b[38;5;241m.\u001b[39m_print_debug(\n\u001b[0;32m   1525\u001b[0m         \u001b[38;5;124m\"\u001b[39m\u001b[38;5;124mBroadcast delay: Sleeping for \u001b[39m\u001b[38;5;132;01m{}\u001b[39;00m\u001b[38;5;124m s\u001b[39m\u001b[38;5;124m\"\u001b[39m\u001b[38;5;241m.\u001b[39mformat(_BROADCAST_DELAY)\n\u001b[0;32m   1526\u001b[0m     )\n",
      "\u001b[1;31mNoResponseError\u001b[0m: No communication with the instrument (no answer)"
     ]
    }
   ],
   "source": [
    "backend_variables.myinfra.begin()\n",
    "backend_variables.myinfra.turn_infra(False)"
   ]
  },
  {
   "cell_type": "code",
   "execution_count": 5,
   "metadata": {},
   "outputs": [
    {
     "data": {
      "text/plain": [
       "True"
      ]
     },
     "execution_count": 5,
     "metadata": {},
     "output_type": "execute_result"
    }
   ],
   "source": [
    "backend_variables.myrelay.turn_off_relay(0)"
   ]
  },
  {
   "cell_type": "code",
   "execution_count": 13,
   "metadata": {},
   "outputs": [],
   "source": [
    "data = [\n",
    "    6, #spd\n",
    "    6, #acc\n",
    "    6, #dec\n",
    "    100, #length\n",
    "    500, #cut delay\n",
    "    60, #infra percent\n",
    "    1, #infra delay\n",
    "]"
   ]
  },
  {
   "cell_type": "code",
   "execution_count": 7,
   "metadata": {},
   "outputs": [
    {
     "name": "stdout",
     "output_type": "stream",
     "text": [
      "Start path 1000\n"
     ]
    }
   ],
   "source": [
    "backend_variables.myservo.start_path(1000)"
   ]
  },
  {
   "cell_type": "code",
   "execution_count": 2,
   "metadata": {},
   "outputs": [
    {
     "name": "stdout",
     "output_type": "stream",
     "text": [
      "Starting cut process\n",
      "Turn infra OFF\n",
      "Infra off time: 0.11334800720214844\n",
      "Set infra percentage\n",
      "Infra: 30\n",
      "Writing path definition\n",
      "Path def writing parameters:\n",
      "Path num: 1 | Speed num: 6 | Dly num: 0 | Auto num: 0 | Type num: 2 | Acc num: 6 | Dec num: 6\n",
      "419410\n",
      "PUSH PATH DEF COMPLETE\n",
      "Writing path data\n",
      "-100\n",
      "-2444987\n",
      "High word: 0xffda\n",
      "Low word: 0xb145\n",
      "New data on 0x0606 : 4292522309\n",
      "Write error\n",
      "PUSH PATH DATA COMPLETE\n",
      "Infra ON\n",
      "4285187355\n",
      "Start path 1\n",
      "config_infra_percentage : 0.3385279178619385\n",
      "knife_up : 0.2655606269836426\n",
      "config_path_data : 0.1231377124786377\n",
      "config_path_def : 0.12449049949645996\n",
      "feedfwd : 3.1415913105010986\n",
      "cut_down : 0.5221743583679199\n"
     ]
    },
    {
     "data": {
      "text/plain": [
       "5.478454113006592"
      ]
     },
     "execution_count": 2,
     "metadata": {},
     "output_type": "execute_result"
    }
   ],
   "source": [
    "await cut_process(*data)"
   ]
  },
  {
   "cell_type": "code",
   "execution_count": 16,
   "metadata": {},
   "outputs": [
    {
     "name": "stdout",
     "output_type": "stream",
     "text": [
      "Starting cut process\n",
      "Turn infra OFF\n",
      "Infra off time: 0.11108779907226562\n",
      "Set infra percentage\n"
     ]
    },
    {
     "name": "stdout",
     "output_type": "stream",
     "text": [
      "Infra: 60\n",
      "Writing path definition\n",
      "Path def writing parameters:\n",
      "Path num: 1 | Speed num: 6 | Dly num: 0 | Auto num: 0 | Type num: 2 | Acc num: 6 | Dec num: 6\n",
      "419410\n",
      "PUSH PATH DEF COMPLETE\n",
      "Writing path data\n",
      "-100\n",
      "-2444987\n",
      "High word: 0xffda\n",
      "Low word: 0xb145\n",
      "New data on 0x0606 : 4292522309\n",
      "Write error\n",
      "PUSH PATH DATA COMPLETE\n",
      "Infra ON\n",
      "4214282537\n",
      "Start path 1\n",
      "config_infra_percentage : 0.33568811416625977\n",
      "knife_up : 0.2611243724822998\n",
      "config_path_data : 0.12482047080993652\n",
      "config_path_def : 0.12513947486877441\n",
      "feedfwd : 3.1406471729278564\n",
      "cut_down : 0.5238540172576904\n",
      "Starting cut process\n",
      "Turn infra OFF\n",
      "Infra off time: 0.11694049835205078\n",
      "Set infra percentage\n",
      "Infra: 60\n",
      "Writing path definition\n",
      "Path def writing parameters:\n",
      "Path num: 1 | Speed num: 6 | Dly num: 0 | Auto num: 0 | Type num: 2 | Acc num: 6 | Dec num: 6\n",
      "419410\n",
      "PUSH PATH DEF COMPLETE\n",
      "Writing path data\n",
      "-100\n",
      "-2444987\n",
      "High word: 0xffda\n",
      "Low word: 0xb145\n",
      "New data on 0x0606 : 4292522309\n",
      "Write error\n",
      "PUSH PATH DATA COMPLETE\n",
      "Infra ON\n",
      "4211837550\n",
      "Start path 1\n",
      "config_infra_percentage : 0.3415830135345459\n",
      "knife_up : 0.2665066719055176\n",
      "config_path_data : 0.12557697296142578\n",
      "config_path_def : 0.12470149993896484\n",
      "feedfwd : 3.145634651184082\n",
      "cut_down : 0.5216217041015625\n",
      "Starting cut process\n",
      "Turn infra OFF\n",
      "Infra off time: 0.11499619483947754\n",
      "Set infra percentage\n",
      "Infra: 60\n",
      "Writing path definition\n",
      "Path def writing parameters:\n",
      "Path num: 1 | Speed num: 6 | Dly num: 0 | Auto num: 0 | Type num: 2 | Acc num: 6 | Dec num: 6\n",
      "419410\n",
      "PUSH PATH DEF COMPLETE\n",
      "Writing path data\n",
      "-100\n",
      "-2444987\n",
      "High word: 0xffda\n",
      "Low word: 0xb145\n",
      "New data on 0x0606 : 4292522309\n",
      "Write error\n",
      "PUSH PATH DATA COMPLETE\n",
      "Infra ON\n",
      "4209392566\n",
      "Start path 1\n",
      "config_infra_percentage : 0.33971667289733887\n",
      "knife_up : 0.2641477584838867\n",
      "config_path_data : 0.1255507469177246\n",
      "config_path_def : 0.12468576431274414\n",
      "feedfwd : 3.125458240509033\n",
      "cut_down : 0.49832773208618164\n"
     ]
    }
   ],
   "source": [
    "for i in range(3):\n",
    "    await cut_process(*data)"
   ]
  },
  {
   "cell_type": "code",
   "execution_count": 21,
   "metadata": {},
   "outputs": [
    {
     "name": "stdout",
     "output_type": "stream",
     "text": [
      "1048402\n"
     ]
    },
    {
     "data": {
      "text/plain": [
       "True"
      ]
     },
     "execution_count": 21,
     "metadata": {},
     "output_type": "execute_result"
    }
   ],
   "source": [
    "backend_variables.myservo.config_path_def(1,\n",
    "                            15,\n",
    "                            0,\n",
    "                            0,\n",
    "                            2,\n",
    "                            15,\n",
    "                            15)"
   ]
  },
  {
   "cell_type": "code",
   "execution_count": 8,
   "metadata": {},
   "outputs": [
    {
     "ename": "NoResponseError",
     "evalue": "No communication with the instrument (no answer)",
     "output_type": "error",
     "traceback": [
      "\u001b[1;31m---------------------------------------------------------------------------\u001b[0m",
      "\u001b[1;31mNoResponseError\u001b[0m                           Traceback (most recent call last)",
      "Cell \u001b[1;32mIn[8], line 1\u001b[0m\n\u001b[1;32m----> 1\u001b[0m \u001b[43mbackend_variables\u001b[49m\u001b[38;5;241;43m.\u001b[39;49m\u001b[43mmyinfra\u001b[49m\u001b[38;5;241;43m.\u001b[39;49m\u001b[43mconfig_percentage\u001b[49m\u001b[43m(\u001b[49m\u001b[38;5;241;43m60\u001b[39;49m\u001b[43m)\u001b[49m\n\u001b[0;32m      2\u001b[0m backend_variables\u001b[38;5;241m.\u001b[39mmyinfra\u001b[38;5;241m.\u001b[39mturn_infra(\u001b[38;5;28;01mTrue\u001b[39;00m)\n\u001b[0;32m      3\u001b[0m \u001b[38;5;66;03m#backend_variables.myservo.config_path_data(1,-2000)\u001b[39;00m\n\u001b[0;32m      4\u001b[0m \u001b[38;5;66;03m#backend_variables.myservo.start_path(1)\u001b[39;00m\n",
      "File \u001b[1;32mc:\\Users\\ACSG\\Documents\\Python Scripts\\acsg_vagogep\\backend\\./infra_control\\infra_control.py:62\u001b[0m, in \u001b[0;36minfra.config_percentage\u001b[1;34m(self, value)\u001b[0m\n\u001b[0;32m     60\u001b[0m     \u001b[38;5;28mself\u001b[39m\u001b[38;5;241m.\u001b[39mdriver\u001b[38;5;241m.\u001b[39mwrite_register(\u001b[38;5;241m10\u001b[39m,\u001b[38;5;241m0\u001b[39m)\n\u001b[0;32m     61\u001b[0m \u001b[38;5;28;01melse\u001b[39;00m:\n\u001b[1;32m---> 62\u001b[0m     \u001b[38;5;28;43mself\u001b[39;49m\u001b[38;5;241;43m.\u001b[39;49m\u001b[43mdriver\u001b[49m\u001b[38;5;241;43m.\u001b[39;49m\u001b[43mwrite_register\u001b[49m\u001b[43m(\u001b[49m\u001b[38;5;241;43m10\u001b[39;49m\u001b[43m,\u001b[49m\u001b[43mvalue\u001b[49m\u001b[43m)\u001b[49m\n\u001b[0;32m     63\u001b[0m \u001b[38;5;28;01mreturn\u001b[39;00m \u001b[38;5;28;01mTrue\u001b[39;00m\n",
      "File \u001b[1;32mc:\\Users\\ACSG\\Documents\\Python Scripts\\acsg_vagogep\\backend\\.venv\\Lib\\site-packages\\minimalmodbus.py:552\u001b[0m, in \u001b[0;36mInstrument.write_register\u001b[1;34m(self, registeraddress, value, number_of_decimals, functioncode, signed)\u001b[0m\n\u001b[0;32m    549\u001b[0m _check_bool(signed, description\u001b[38;5;241m=\u001b[39m\u001b[38;5;124m\"\u001b[39m\u001b[38;5;124msigned\u001b[39m\u001b[38;5;124m\"\u001b[39m)\n\u001b[0;32m    550\u001b[0m _check_numerical(value, description\u001b[38;5;241m=\u001b[39m\u001b[38;5;124m\"\u001b[39m\u001b[38;5;124minput value\u001b[39m\u001b[38;5;124m\"\u001b[39m)\n\u001b[1;32m--> 552\u001b[0m \u001b[38;5;28;43mself\u001b[39;49m\u001b[38;5;241;43m.\u001b[39;49m\u001b[43m_generic_command\u001b[49m\u001b[43m(\u001b[49m\n\u001b[0;32m    553\u001b[0m \u001b[43m    \u001b[49m\u001b[43mfunctioncode\u001b[49m\u001b[43m,\u001b[49m\n\u001b[0;32m    554\u001b[0m \u001b[43m    \u001b[49m\u001b[43mregisteraddress\u001b[49m\u001b[43m,\u001b[49m\n\u001b[0;32m    555\u001b[0m \u001b[43m    \u001b[49m\u001b[43mvalue\u001b[49m\u001b[43m,\u001b[49m\n\u001b[0;32m    556\u001b[0m \u001b[43m    \u001b[49m\u001b[43mnumber_of_decimals\u001b[49m\u001b[38;5;241;43m=\u001b[39;49m\u001b[43mnumber_of_decimals\u001b[49m\u001b[43m,\u001b[49m\n\u001b[0;32m    557\u001b[0m \u001b[43m    \u001b[49m\u001b[43mnumber_of_registers\u001b[49m\u001b[38;5;241;43m=\u001b[39;49m\u001b[38;5;241;43m1\u001b[39;49m\u001b[43m,\u001b[49m\n\u001b[0;32m    558\u001b[0m \u001b[43m    \u001b[49m\u001b[43msigned\u001b[49m\u001b[38;5;241;43m=\u001b[39;49m\u001b[43msigned\u001b[49m\u001b[43m,\u001b[49m\n\u001b[0;32m    559\u001b[0m \u001b[43m    \u001b[49m\u001b[43mpayloadformat\u001b[49m\u001b[38;5;241;43m=\u001b[39;49m\u001b[43m_Payloadformat\u001b[49m\u001b[38;5;241;43m.\u001b[39;49m\u001b[43mREGISTER\u001b[49m\u001b[43m,\u001b[49m\n\u001b[0;32m    560\u001b[0m \u001b[43m\u001b[49m\u001b[43m)\u001b[49m\n",
      "File \u001b[1;32mc:\\Users\\ACSG\\Documents\\Python Scripts\\acsg_vagogep\\backend\\.venv\\Lib\\site-packages\\minimalmodbus.py:1276\u001b[0m, in \u001b[0;36mInstrument._generic_command\u001b[1;34m(self, functioncode, registeraddress, value, number_of_decimals, number_of_registers, number_of_bits, signed, byteorder, payloadformat)\u001b[0m\n\u001b[0;32m   1263\u001b[0m payload_to_slave \u001b[38;5;241m=\u001b[39m _create_payload(\n\u001b[0;32m   1264\u001b[0m     functioncode,\n\u001b[0;32m   1265\u001b[0m     registeraddress,\n\u001b[1;32m   (...)\u001b[0m\n\u001b[0;32m   1272\u001b[0m     payloadformat,\n\u001b[0;32m   1273\u001b[0m )\n\u001b[0;32m   1275\u001b[0m \u001b[38;5;66;03m# Communicate with instrument\u001b[39;00m\n\u001b[1;32m-> 1276\u001b[0m payload_from_slave \u001b[38;5;241m=\u001b[39m \u001b[38;5;28;43mself\u001b[39;49m\u001b[38;5;241;43m.\u001b[39;49m\u001b[43m_perform_command\u001b[49m\u001b[43m(\u001b[49m\u001b[43mfunctioncode\u001b[49m\u001b[43m,\u001b[49m\u001b[43m \u001b[49m\u001b[43mpayload_to_slave\u001b[49m\u001b[43m)\u001b[49m\n\u001b[0;32m   1278\u001b[0m \u001b[38;5;66;03m# There is no response for broadcasts\u001b[39;00m\n\u001b[0;32m   1279\u001b[0m \u001b[38;5;28;01mif\u001b[39;00m \u001b[38;5;28mself\u001b[39m\u001b[38;5;241m.\u001b[39maddress \u001b[38;5;241m==\u001b[39m _SLAVEADDRESS_BROADCAST:\n",
      "File \u001b[1;32mc:\\Users\\ACSG\\Documents\\Python Scripts\\acsg_vagogep\\backend\\.venv\\Lib\\site-packages\\minimalmodbus.py:1353\u001b[0m, in \u001b[0;36mInstrument._perform_command\u001b[1;34m(self, functioncode, payload_to_slave)\u001b[0m\n\u001b[0;32m   1346\u001b[0m             \u001b[38;5;28mself\u001b[39m\u001b[38;5;241m.\u001b[39m_print_debug(\n\u001b[0;32m   1347\u001b[0m                 template\u001b[38;5;241m.\u001b[39mformat(\n\u001b[0;32m   1348\u001b[0m                     \u001b[38;5;28mself\u001b[39m\u001b[38;5;241m.\u001b[39mmode, number_of_bytes_to_read, request_bytes\n\u001b[0;32m   1349\u001b[0m                 )\n\u001b[0;32m   1350\u001b[0m             )\n\u001b[0;32m   1352\u001b[0m \u001b[38;5;66;03m# Communicate\u001b[39;00m\n\u001b[1;32m-> 1353\u001b[0m response_bytes \u001b[38;5;241m=\u001b[39m \u001b[38;5;28;43mself\u001b[39;49m\u001b[38;5;241;43m.\u001b[39;49m\u001b[43m_communicate\u001b[49m\u001b[43m(\u001b[49m\u001b[43mrequest_bytes\u001b[49m\u001b[43m,\u001b[49m\u001b[43m \u001b[49m\u001b[43mnumber_of_bytes_to_read\u001b[49m\u001b[43m)\u001b[49m\n\u001b[0;32m   1355\u001b[0m \u001b[38;5;28;01mif\u001b[39;00m number_of_bytes_to_read \u001b[38;5;241m==\u001b[39m \u001b[38;5;241m0\u001b[39m:\n\u001b[0;32m   1356\u001b[0m     \u001b[38;5;28;01mreturn\u001b[39;00m \u001b[38;5;124mb\u001b[39m\u001b[38;5;124m\"\u001b[39m\u001b[38;5;124m\"\u001b[39m\n",
      "File \u001b[1;32mc:\\Users\\ACSG\\Documents\\Python Scripts\\acsg_vagogep\\backend\\.venv\\Lib\\site-packages\\minimalmodbus.py:1521\u001b[0m, in \u001b[0;36mInstrument._communicate\u001b[1;34m(self, request, number_of_bytes_to_read)\u001b[0m\n\u001b[0;32m   1518\u001b[0m     \u001b[38;5;28mself\u001b[39m\u001b[38;5;241m.\u001b[39m_print_debug(text)\n\u001b[0;32m   1520\u001b[0m \u001b[38;5;28;01mif\u001b[39;00m \u001b[38;5;129;01mnot\u001b[39;00m answer \u001b[38;5;129;01mand\u001b[39;00m number_of_bytes_to_read \u001b[38;5;241m>\u001b[39m \u001b[38;5;241m0\u001b[39m:\n\u001b[1;32m-> 1521\u001b[0m     \u001b[38;5;28;01mraise\u001b[39;00m NoResponseError(\u001b[38;5;124m\"\u001b[39m\u001b[38;5;124mNo communication with the instrument (no answer)\u001b[39m\u001b[38;5;124m\"\u001b[39m)\n\u001b[0;32m   1523\u001b[0m \u001b[38;5;28;01mif\u001b[39;00m number_of_bytes_to_read \u001b[38;5;241m==\u001b[39m \u001b[38;5;241m0\u001b[39m:\n\u001b[0;32m   1524\u001b[0m     \u001b[38;5;28mself\u001b[39m\u001b[38;5;241m.\u001b[39m_print_debug(\n\u001b[0;32m   1525\u001b[0m         \u001b[38;5;124m\"\u001b[39m\u001b[38;5;124mBroadcast delay: Sleeping for \u001b[39m\u001b[38;5;132;01m{}\u001b[39;00m\u001b[38;5;124m s\u001b[39m\u001b[38;5;124m\"\u001b[39m\u001b[38;5;241m.\u001b[39mformat(_BROADCAST_DELAY)\n\u001b[0;32m   1526\u001b[0m     )\n",
      "\u001b[1;31mNoResponseError\u001b[0m: No communication with the instrument (no answer)"
     ]
    }
   ],
   "source": [
    "backend_variables.myinfra.config_percentage(60)\n",
    "backend_variables.myinfra.turn_infra(True)\n",
    "#backend_variables.myservo.config_path_data(1,-2000)\n",
    "#backend_variables.myservo.start_path(1)"
   ]
  },
  {
   "cell_type": "code",
   "execution_count": 39,
   "metadata": {},
   "outputs": [
    {
     "name": "stdout",
     "output_type": "stream",
     "text": [
      "Start path 1000\n"
     ]
    }
   ],
   "source": [
    "backend_variables.myservo.start_path(1000)"
   ]
  },
  {
   "cell_type": "code",
   "execution_count": 38,
   "metadata": {},
   "outputs": [
    {
     "data": {
      "text/plain": [
       "True"
      ]
     },
     "execution_count": 38,
     "metadata": {},
     "output_type": "execute_result"
    }
   ],
   "source": [
    "backend_variables.myinfra.turn_infra(False)"
   ]
  },
  {
   "cell_type": "code",
   "execution_count": 18,
   "metadata": {},
   "outputs": [
    {
     "name": "stdout",
     "output_type": "stream",
     "text": [
      "-20\n",
      "-488997\n",
      "High word: 0xfff8\n",
      "Low word: 0x89db\n",
      "New data on 0x0606 : 4294478299\n",
      "Write error\n",
      "Start path 1\n"
     ]
    }
   ],
   "source": [
    "backend_variables.myservo.config_path_data(1,-20)\n",
    "backend_variables.myservo.start_path(1)"
   ]
  },
  {
   "cell_type": "code",
   "execution_count": 3,
   "metadata": {},
   "outputs": [
    {
     "name": "stdout",
     "output_type": "stream",
     "text": [
      "Starting cut process\n",
      "Turn infra OFF\n",
      "Time until ser open: 0.0019965171813964844\n",
      "b'\\\\x69\\\\x00\\\\x01\\\\x00\\\\x00\\\\x06\\\\x00\\\\x00\\n'\n",
      "Time until read response: 0.10303497314453125\n",
      "Infra off time: 1.0940313339233398\n",
      "Set infra percentage\n",
      "Send Infra config percentage data ex. time: 0.05055880546569824\n",
      "b'\\\\x69\\\\x00\\\\x00\\\\x00\\\\x00\\\\x06\\\\x00\\\\x28\\n'\n",
      "Receive Infra config percentage data response ex. time: 0.0010159015655517578\n",
      "Infra: 40\n",
      "Writing path definition\n",
      "Path def writing parameters:\n",
      "Path num: 1 | Speed num: 15 | Dly num: 0 | Auto num: 0 | Type num: 2 | Acc num: 15 | Dec num: 15\n",
      "1048402\n",
      "PUSH PATH DEF COMPLETE\n",
      "Writing path data\n",
      "-500\n",
      "-12224938\n",
      "High word: 0xff45\n",
      "Low word: 0x7656\n",
      "New data on 0x0606 : 4282742358\n",
      "Write error\n",
      "PUSH PATH DATA COMPLETE\n",
      "Infra ON\n",
      "Time until ser open: 0.0019998550415039062\n",
      "b'\\\\x69\\\\x00\\\\x01\\\\x00\\\\x00\\\\x06\\\\x00\\\\x01\\n'\n",
      "Time until read response: 0.1033327579498291\n",
      "4050468541\n",
      "Start path 1\n",
      "Time until ser open: 0.0009958744049072266\n",
      "b'\\\\x69\\\\x00\\\\x01\\\\x00\\\\x00\\\\x06\\\\x00\\\\x00\\n'\n",
      "Time until read response: 0.10361933708190918\n",
      "config_infra_percentage : 1.4592373371124268\n",
      "knife_up : 0.26609134674072266\n",
      "config_path_data : 0.12695050239562988\n",
      "config_path_def : 0.12494230270385742\n",
      "feedfwd : 5.206702947616577\n",
      "cut_down : 1.528853178024292\n",
      "Starting cut process\n",
      "Turn infra OFF\n",
      "Time until ser open: 0.002581357955932617\n",
      "b'\\\\x69\\\\x00\\\\x01\\\\x00\\\\x00\\\\x06\\\\x00\\\\x00\\n'\n",
      "Time until read response: 0.10293984413146973\n",
      "Infra off time: 1.1169788837432861\n",
      "Set infra percentage\n",
      "Send Infra config percentage data ex. time: 0.05058550834655762\n",
      "b'\\\\x69\\\\x00\\\\x00\\\\x00\\\\x00\\\\x06\\\\x00\\\\x28\\n'\n",
      "Receive Infra config percentage data response ex. time: 0.0005753040313720703\n",
      "Infra: 40\n",
      "Writing path definition\n",
      "Path def writing parameters:\n",
      "Path num: 1 | Speed num: 15 | Dly num: 0 | Auto num: 0 | Type num: 2 | Acc num: 15 | Dec num: 15\n",
      "1048402\n",
      "PUSH PATH DEF COMPLETE\n",
      "Writing path data\n",
      "-500\n",
      "-12224938\n",
      "High word: 0xff45\n",
      "Low word: 0x7656\n",
      "New data on 0x0606 : 4282742358\n",
      "Write error\n",
      "PUSH PATH DATA COMPLETE\n",
      "Infra ON\n",
      "Time until ser open: 0.002657651901245117\n",
      "b'\\\\x69\\\\x00\\\\x01\\\\x00\\\\x00\\\\x06\\\\x00\\\\x01\\n'\n",
      "Time until read response: 0.10274553298950195\n",
      "4038243600\n",
      "Start path 1\n",
      "Time until ser open: 0.0016880035400390625\n",
      "b'\\\\x69\\\\x00\\\\x01\\\\x00\\\\x00\\\\x06\\\\x00\\\\x00\\n'\n",
      "Time until read response: 0.10274457931518555\n",
      "config_infra_percentage : 1.482335090637207\n",
      "knife_up : 0.26749086380004883\n",
      "config_path_data : 0.12598562240600586\n",
      "config_path_def : 0.12377333641052246\n",
      "feedfwd : 5.216125726699829\n",
      "cut_down : 1.5251765251159668\n",
      "Starting cut process\n",
      "Turn infra OFF\n",
      "Time until ser open: 0.0019516944885253906\n",
      "b'\\\\x69\\\\x00\\\\x01\\\\x00\\\\x00\\\\x06\\\\x00\\\\x00\\n'\n",
      "Time until read response: 0.10198545455932617\n",
      "Infra off time: 1.1179049015045166\n",
      "Set infra percentage\n",
      "Send Infra config percentage data ex. time: 0.050986289978027344\n",
      "b'\\\\x69\\\\x00\\\\x00\\\\x00\\\\x00\\\\x06\\\\x00\\\\x28\\n'\n",
      "Receive Infra config percentage data response ex. time: 0.0015573501586914062\n",
      "Infra: 40\n",
      "Writing path definition\n",
      "Path def writing parameters:\n",
      "Path num: 1 | Speed num: 15 | Dly num: 0 | Auto num: 0 | Type num: 2 | Acc num: 15 | Dec num: 15\n",
      "1048402\n",
      "PUSH PATH DEF COMPLETE\n",
      "Writing path data\n",
      "-500\n",
      "-12224938\n",
      "High word: 0xff45\n",
      "Low word: 0x7656\n",
      "New data on 0x0606 : 4282742358\n",
      "Write error\n",
      "PUSH PATH DATA COMPLETE\n",
      "Infra ON\n",
      "Time until ser open: 0.002092123031616211\n",
      "b'\\\\x69\\\\x00\\\\x01\\\\x00\\\\x00\\\\x06\\\\x00\\\\x01\\n'\n",
      "Time until read response: 0.10177063941955566\n",
      "4026018660\n",
      "Start path 1\n",
      "Time until ser open: 0.001999378204345703\n",
      "b'\\\\x69\\\\x00\\\\x01\\\\x00\\\\x00\\\\x06\\\\x00\\\\x00\\n'\n",
      "Time until read response: 0.1027364730834961\n",
      "config_infra_percentage : 1.480820894241333\n",
      "knife_up : 0.26459741592407227\n",
      "config_path_data : 0.12499475479125977\n",
      "config_path_def : 0.12471818923950195\n",
      "feedfwd : 5.207535028457642\n",
      "cut_down : 1.5239319801330566\n",
      "Starting cut process\n",
      "Turn infra OFF\n",
      "Time until ser open: 0.001814126968383789\n",
      "b'\\\\x69\\\\x00\\\\x01\\\\x00\\\\x00\\\\x06\\\\x00\\\\x00\\n'\n",
      "Time until read response: 0.10191655158996582\n",
      "Infra off time: 1.1144404411315918\n",
      "Set infra percentage\n",
      "Send Infra config percentage data ex. time: 0.051119327545166016\n",
      "b'\\\\x69\\\\x00\\\\x00\\\\x00\\\\x00\\\\x06\\\\x00\\\\x28\\n'\n",
      "Receive Infra config percentage data response ex. time: 0.001073598861694336\n",
      "Infra: 40\n",
      "Writing path definition\n",
      "Path def writing parameters:\n",
      "Path num: 1 | Speed num: 15 | Dly num: 0 | Auto num: 0 | Type num: 2 | Acc num: 15 | Dec num: 15\n",
      "1048402\n",
      "PUSH PATH DEF COMPLETE\n",
      "Writing path data\n",
      "-500\n",
      "-12224938\n",
      "High word: 0xff45\n",
      "Low word: 0x7656\n",
      "New data on 0x0606 : 4282742358\n",
      "Write error\n",
      "PUSH PATH DATA COMPLETE\n",
      "Infra ON\n",
      "Time until ser open: 0.0019884109497070312\n",
      "b'\\\\x69\\\\x00\\\\x01\\\\x00\\\\x00\\\\x06\\\\x00\\\\x01\\n'\n",
      "Time until read response: 0.10236001014709473\n",
      "4013793720\n",
      "Start path 1\n",
      "Time until ser open: 0.0020220279693603516\n",
      "b'\\\\x69\\\\x00\\\\x01\\\\x00\\\\x00\\\\x06\\\\x00\\\\x00\\n'\n",
      "Time until read response: 0.10298609733581543\n",
      "config_infra_percentage : 1.4799997806549072\n",
      "knife_up : 0.263225793838501\n",
      "config_path_data : 0.12601685523986816\n",
      "config_path_def : 0.12561583518981934\n",
      "feedfwd : 5.201487302780151\n",
      "cut_down : 1.5272228717803955\n",
      "Starting cut process\n",
      "Turn infra OFF\n",
      "Time until ser open: 0.0040285587310791016\n",
      "b'\\\\x69\\\\x00\\\\x01\\\\x00\\\\x00\\\\x06\\\\x00\\\\x00\\n'\n",
      "Time until read response: 0.10255217552185059\n",
      "Infra off time: 1.115523338317871\n",
      "Set infra percentage\n",
      "Send Infra config percentage data ex. time: 0.05082821846008301\n",
      "b'\\\\x69\\\\x00\\\\x00\\\\x00\\\\x00\\\\x06\\\\x00\\\\x28\\n'\n",
      "Receive Infra config percentage data response ex. time: 0.0010199546813964844\n",
      "Infra: 40\n",
      "Writing path definition\n",
      "Path def writing parameters:\n",
      "Path num: 1 | Speed num: 15 | Dly num: 0 | Auto num: 0 | Type num: 2 | Acc num: 15 | Dec num: 15\n",
      "1048402\n",
      "PUSH PATH DEF COMPLETE\n",
      "Writing path data\n",
      "-500\n",
      "-12224938\n",
      "High word: 0xff45\n",
      "Low word: 0x7656\n",
      "New data on 0x0606 : 4282742358\n",
      "Write error\n",
      "PUSH PATH DATA COMPLETE\n",
      "Infra ON\n",
      "Time until ser open: 0.0010423660278320312\n",
      "b'\\\\x69\\\\x00\\\\x01\\\\x00\\\\x00\\\\x06\\\\x00\\\\x01\\n'\n",
      "Time until read response: 0.10313868522644043\n",
      "4001568778\n",
      "Start path 1\n",
      "Time until ser open: 0.002015829086303711\n",
      "b'\\\\x69\\\\x00\\\\x01\\\\x00\\\\x00\\\\x06\\\\x00\\\\x00\\n'\n",
      "Time until read response: 0.1025538444519043\n",
      "config_infra_percentage : 1.4799871444702148\n",
      "knife_up : 0.2620277404785156\n",
      "config_path_data : 0.1254580020904541\n",
      "config_path_def : 0.12489461898803711\n",
      "feedfwd : 5.211930513381958\n",
      "cut_down : 1.5115385055541992\n",
      "Starting cut process\n",
      "Turn infra OFF\n",
      "Time until ser open: 0.002660512924194336\n",
      "b'\\\\x69\\\\x00\\\\x01\\\\x00\\\\x00\\\\x06\\\\x00\\\\x00\\n'\n",
      "Time until read response: 0.10153365135192871\n",
      "Infra off time: 1.1058592796325684\n",
      "Set infra percentage\n",
      "Send Infra config percentage data ex. time: 0.05068039894104004\n",
      "b'\\\\x69\\\\x00\\\\x00\\\\x00\\\\x00\\\\x06\\\\x00\\\\x28\\n'\n",
      "Receive Infra config percentage data response ex. time: 0.0008230209350585938\n",
      "Infra: 40\n",
      "Writing path definition\n",
      "Path def writing parameters:\n",
      "Path num: 1 | Speed num: 15 | Dly num: 0 | Auto num: 0 | Type num: 2 | Acc num: 15 | Dec num: 15\n",
      "1048402\n",
      "PUSH PATH DEF COMPLETE\n",
      "Writing path data\n",
      "-500\n",
      "-12224938\n",
      "High word: 0xff45\n",
      "Low word: 0x7656\n",
      "New data on 0x0606 : 4282742358\n",
      "Write error\n",
      "PUSH PATH DATA COMPLETE\n",
      "Infra ON\n",
      "Time until ser open: 0.0010137557983398438\n",
      "b'\\\\x69\\\\x00\\\\x01\\\\x00\\\\x00\\\\x06\\\\x00\\\\x01\\n'\n",
      "Time until read response: 0.10159635543823242\n",
      "3989343837\n",
      "Start path 1\n",
      "Time until ser open: 0.0028786659240722656\n",
      "b'\\\\x69\\\\x00\\\\x01\\\\x00\\\\x00\\\\x06\\\\x00\\\\x00\\n'\n",
      "Time until read response: 0.10229253768920898\n",
      "config_infra_percentage : 1.472705364227295\n",
      "knife_up : 0.2500126361846924\n",
      "config_path_data : 0.12602448463439941\n",
      "config_path_def : 0.12500357627868652\n",
      "feedfwd : 5.1957197189331055\n",
      "cut_down : 1.5261330604553223\n",
      "Starting cut process\n",
      "Turn infra OFF\n",
      "Time until ser open: 0.0019478797912597656\n",
      "b'\\\\x69\\\\x00\\\\x01\\\\x00\\\\x00\\\\x06\\\\x00\\\\x00\\n'\n",
      "Time until read response: 0.10267114639282227\n",
      "Infra off time: 1.116112470626831\n",
      "Set infra percentage\n",
      "Send Infra config percentage data ex. time: 0.05075836181640625\n",
      "b'\\\\x69\\\\x00\\\\x00\\\\x00\\\\x00\\\\x06\\\\x00\\\\x28\\n'\n",
      "Receive Infra config percentage data response ex. time: 0.0010192394256591797\n",
      "Infra: 40\n",
      "Writing path definition\n",
      "Path def writing parameters:\n",
      "Path num: 1 | Speed num: 15 | Dly num: 0 | Auto num: 0 | Type num: 2 | Acc num: 15 | Dec num: 15\n",
      "1048402\n",
      "PUSH PATH DEF COMPLETE\n",
      "Writing path data\n",
      "-500\n",
      "-12224938\n",
      "High word: 0xff45\n",
      "Low word: 0x7656\n",
      "New data on 0x0606 : 4282742358\n",
      "Write error\n",
      "PUSH PATH DATA COMPLETE\n",
      "Infra ON\n",
      "Time until ser open: 0.0013000965118408203\n",
      "b'\\\\x69\\\\x00\\\\x01\\\\x00\\\\x00\\\\x06\\\\x00\\\\x01\\n'\n",
      "Time until read response: 0.10387897491455078\n",
      "3977118895\n",
      "Start path 1\n",
      "Time until ser open: 0.002860546112060547\n",
      "b'\\\\x69\\\\x00\\\\x01\\\\x00\\\\x00\\\\x06\\\\x00\\\\x00\\n'\n",
      "Time until read response: 0.10328888893127441\n",
      "config_infra_percentage : 1.4795315265655518\n",
      "knife_up : 0.2674117088317871\n",
      "config_path_data : 0.12576913833618164\n",
      "config_path_def : 0.1247258186340332\n",
      "feedfwd : 5.201542854309082\n",
      "cut_down : 1.5289032459259033\n",
      "Starting cut process\n",
      "Turn infra OFF\n",
      "Time until ser open: 0.0029184818267822266\n",
      "b'\\\\x69\\\\x00\\\\x01\\\\x00\\\\x00\\\\x06\\\\x00\\\\x00\\n'\n",
      "Time until read response: 0.10205578804016113\n",
      "Infra off time: 1.1181831359863281\n",
      "Set infra percentage\n",
      "Send Infra config percentage data ex. time: 0.0503840446472168\n",
      "b'\\\\x69\\\\x00\\\\x00\\\\x00\\\\x00\\\\x06\\\\x00\\\\x28\\n'\n",
      "Receive Infra config percentage data response ex. time: 0.002122163772583008\n",
      "Infra: 40\n",
      "Writing path definition\n",
      "Path def writing parameters:\n",
      "Path num: 1 | Speed num: 15 | Dly num: 0 | Auto num: 0 | Type num: 2 | Acc num: 15 | Dec num: 15\n",
      "1048402\n",
      "PUSH PATH DEF COMPLETE\n",
      "Writing path data\n",
      "-500\n",
      "-12224938\n",
      "High word: 0xff45\n",
      "Low word: 0x7656\n",
      "New data on 0x0606 : 4282742358\n",
      "Write error\n",
      "PUSH PATH DATA COMPLETE\n",
      "Infra ON\n",
      "Time until ser open: 0.002013683319091797\n",
      "b'\\\\x69\\\\x00\\\\x01\\\\x00\\\\x00\\\\x06\\\\x00\\\\x01\\n'\n",
      "Time until read response: 0.10140681266784668\n",
      "3964893955\n",
      "Start path 1\n",
      "Time until ser open: 0.0019998550415039062\n",
      "b'\\\\x69\\\\x00\\\\x01\\\\x00\\\\x00\\\\x06\\\\x00\\\\x00\\n'\n",
      "Time until read response: 0.10269474983215332\n",
      "config_infra_percentage : 1.481318473815918\n",
      "knife_up : 0.26380276679992676\n",
      "config_path_data : 0.12396883964538574\n",
      "config_path_def : 0.12384390830993652\n",
      "feedfwd : 5.195504903793335\n",
      "cut_down : 1.5275092124938965\n",
      "Starting cut process\n",
      "Turn infra OFF\n",
      "Time until ser open: 0.0015125274658203125\n",
      "b'\\\\x69\\\\x00\\\\x01\\\\x00\\\\x00\\\\x06\\\\x00\\\\x00\\n'\n",
      "Time until read response: 0.10207486152648926\n",
      "Infra off time: 1.1169171333312988\n",
      "Set infra percentage\n",
      "Send Infra config percentage data ex. time: 0.05081772804260254\n",
      "b'\\\\x69\\\\x00\\\\x00\\\\x00\\\\x00\\\\x06\\\\x00\\\\x28\\n'\n",
      "Receive Infra config percentage data response ex. time: 0.0020132064819335938\n",
      "Infra: 40\n",
      "Writing path definition\n",
      "Path def writing parameters:\n",
      "Path num: 1 | Speed num: 15 | Dly num: 0 | Auto num: 0 | Type num: 2 | Acc num: 15 | Dec num: 15\n",
      "1048402\n",
      "PUSH PATH DEF COMPLETE\n",
      "Writing path data\n",
      "-500\n",
      "-12224938\n",
      "High word: 0xff45\n",
      "Low word: 0x7656\n",
      "New data on 0x0606 : 4282742358\n",
      "Write error\n",
      "PUSH PATH DATA COMPLETE\n",
      "Infra ON\n",
      "Time until ser open: 0.0016674995422363281\n",
      "b'\\\\x69\\\\x00\\\\x01\\\\x00\\\\x00\\\\x06\\\\x00\\\\x01\\n'\n",
      "Time until read response: 0.10182905197143555\n",
      "3952669013\n",
      "Start path 1\n",
      "Time until ser open: 0.0018358230590820312\n",
      "b'\\\\x69\\\\x00\\\\x01\\\\x00\\\\x00\\\\x06\\\\x00\\\\x00\\n'\n",
      "Time until read response: 0.10266757011413574\n",
      "config_infra_percentage : 1.4800763130187988\n",
      "knife_up : 0.2657899856567383\n",
      "config_path_data : 0.12643194198608398\n",
      "config_path_def : 0.1251528263092041\n",
      "feedfwd : 5.209826469421387\n",
      "cut_down : 1.5003983974456787\n",
      "Starting cut process\n",
      "Turn infra OFF\n",
      "Time until ser open: 0.0014901161193847656\n",
      "b'\\\\x69\\\\x00\\\\x01\\\\x00\\\\x00\\\\x06\\\\x00\\\\x00\\n'\n",
      "Time until read response: 0.1030874252319336\n",
      "Infra off time: 1.112999439239502\n",
      "Set infra percentage\n",
      "Send Infra config percentage data ex. time: 0.050467491149902344\n",
      "b'\\\\x69\\\\x00\\\\x00\\\\x00\\\\x00\\\\x06\\\\x00\\\\x28\\n'\n",
      "Receive Infra config percentage data response ex. time: 0.001401662826538086\n",
      "Infra: 40\n",
      "Writing path definition\n",
      "Path def writing parameters:\n",
      "Path num: 1 | Speed num: 15 | Dly num: 0 | Auto num: 0 | Type num: 2 | Acc num: 15 | Dec num: 15\n",
      "1048402\n",
      "PUSH PATH DEF COMPLETE\n",
      "Writing path data\n",
      "-500\n",
      "-12224938\n",
      "High word: 0xff45\n",
      "Low word: 0x7656\n",
      "New data on 0x0606 : 4282742358\n",
      "Write error\n",
      "PUSH PATH DATA COMPLETE\n",
      "Infra ON\n",
      "Time until ser open: 0.0024340152740478516\n",
      "b'\\\\x69\\\\x00\\\\x01\\\\x00\\\\x00\\\\x06\\\\x00\\\\x01\\n'\n",
      "Time until read response: 0.1022183895111084\n",
      "3940444073\n",
      "Start path 1\n",
      "Time until ser open: 0.002309083938598633\n",
      "b'\\\\x69\\\\x00\\\\x01\\\\x00\\\\x00\\\\x06\\\\x00\\\\x00\\n'\n",
      "Time until read response: 0.10187721252441406\n",
      "config_infra_percentage : 1.4791412353515625\n",
      "knife_up : 0.2664637565612793\n",
      "config_path_data : 0.12478804588317871\n",
      "config_path_def : 0.126112699508667\n",
      "feedfwd : 5.203298330307007\n",
      "cut_down : 1.5164847373962402\n",
      "AVG: 9.135203337669372 | MIN: 9.113552331924438 | MAX: 9.160844087600708 | STD: 0.015120623029489312\n"
     ]
    }
   ],
   "source": [
    "time_array = np.array([])\n",
    "for i in range(10):\n",
    "    time_array = np.append(time_array,await cut_process(*data))\n",
    "print(f\"AVG: {np.average(time_array)} | MIN: {np.min(time_array)} | MAX: {np.max(time_array)} | STD: {np.std(time_array)}\")"
   ]
  },
  {
   "cell_type": "code",
   "execution_count": 6,
   "metadata": {},
   "outputs": [
    {
     "name": "stdout",
     "output_type": "stream",
     "text": [
      "Send Infra config percentage data ex. time: 0.05079150199890137\n",
      "Time until ser open: 0.0010120868682861328\n"
     ]
    },
    {
     "data": {
      "text/plain": [
       "0"
      ]
     },
     "execution_count": 6,
     "metadata": {},
     "output_type": "execute_result"
    }
   ],
   "source": [
    "backend_variables.myinfra.config_percentage(20)\n",
    "backend_variables.myinfra.turn_infra(False)"
   ]
  },
  {
   "cell_type": "code",
   "execution_count": 13,
   "metadata": {},
   "outputs": [
    {
     "name": "stdout",
     "output_type": "stream",
     "text": [
      "Time until ser open: 0.00101470947265625\n",
      "b'\\\\x69\\\\x00\\\\x01\\\\x00\\\\x00\\\\x06\\\\x00\\\\x00\\n'\n",
      "Time until read response: 0.10196614265441895\n"
     ]
    },
    {
     "data": {
      "text/plain": [
       "0"
      ]
     },
     "execution_count": 13,
     "metadata": {},
     "output_type": "execute_result"
    }
   ],
   "source": []
  },
  {
   "cell_type": "code",
   "execution_count": null,
   "metadata": {},
   "outputs": [],
   "source": [
    "# TODO: ercentage timeout \n",
    "# "
   ]
  },
  {
   "cell_type": "code",
   "execution_count": 1,
   "metadata": {},
   "outputs": [],
   "source": [
    "import asyncio\n",
    "import time\n",
    "import numpy as np\n",
    "\n",
    "import backend_variables\n",
    "\n",
    "# ------- SERVO PATH FUNCTIONS -------------\n",
    "def push_path_def(path_num: int, spd_num: int, dly_num: int, auto_num: int, type_num: int, acc_num: int,\n",
    "                     dec_num: int):\n",
    "    print(\"Path def writing parameters:\")\n",
    "    print(f\"Path num: {path_num} | Speed num: {spd_num} | Dly num: {dly_num} | Auto num: {auto_num} | Type num: {type_num} | Acc num: {acc_num} | Dec num: {dec_num}\")\n",
    "    # Logic to configure path definition\n",
    "    backend_variables.path_definitions[path_num] = {\n",
    "        \"spd_num\": spd_num,\n",
    "        \"dly_num\": dly_num,\n",
    "        \"auto_num\": auto_num,\n",
    "        \"type_num\": type_num,\n",
    "        \"acc_num\": acc_num,\n",
    "        \"dec_num\": dec_num\n",
    "    }\n",
    "    if not backend_variables.TESTING:\n",
    "        backend_variables.myservo.config_path_def(path_num,\n",
    "                                spd_num,\n",
    "                                dly_num,\n",
    "                                auto_num,\n",
    "                                type_num,\n",
    "                                acc_num,\n",
    "                                dec_num)\n",
    "    print(\"PUSH PATH DEF COMPLETE\")\n",
    "\n",
    "def push_path_data(path_num: int, length):\n",
    "    # Logic to configure path data\n",
    "    backend_variables.path_data[path_num] = {\"length\": length}\n",
    "    if not backend_variables.TESTING:\n",
    "        backend_variables.myservo.config_path_data(path_num,\n",
    "                                -length)\n",
    "    print(\"PUSH PATH DATA COMPLETE\")\n",
    "\n",
    "time_names_array = [\n",
    "    \"config_infra_percentage\",\n",
    "    \"knife_up\",\n",
    "    \"config_path_data\",\n",
    "    \"config_path_def\",\n",
    "    \"feedfwd\",\n",
    "    \"cut_down\"\n",
    "]\n",
    "\n",
    "def cut_process(spd_num,\n",
    "                acc_num,\n",
    "                dec_num,\n",
    "                length,\n",
    "                cut_delay,\n",
    "                infra_percent,\n",
    "                infra_delay\n",
    "                ):\n",
    "    time_array = np.array([])\n",
    "    print(\"Starting cut process\")\n",
    "    time_array = np.append(time_array, time.time())\n",
    "\n",
    "    print(\"Turn infra OFF\")\n",
    "    infra_off_start_time = time.time()\n",
    "    backend_variables.myinfra.turn_infra(False)\n",
    "    time.sleep(0.2)\n",
    "    print(f\"Infra off time: {time.time() - infra_off_start_time}\")\n",
    "\n",
    "    if not backend_variables.TESTING:\n",
    "        print(\"Set infra percentage\")\n",
    "        backend_variables.myinfra.config_percentage(infra_percent)\n",
    "        time.sleep(0.2)\n",
    "        time_array = np.append(time_array, time.time())\n",
    "        print(f\"Infra: {infra_percent}\")\n",
    "\n",
    "    # knife up\n",
    "    backend_variables.websocket_payload['process_status'] = \"knifeup_first\"\n",
    "    if not backend_variables.TESTING:\n",
    "        backend_variables.myrelay.turn_off_relay(0)\n",
    "    if not backend_variables.websocket_payload['process_stopped_imm']:\n",
    "        if not backend_variables.TESTING:\n",
    "            while(backend_variables.myrelay.read_input()[-1] != 0):\n",
    "                print(backend_variables.myrelay.read_input())\n",
    "                backend_variables.myrelay.turn_off_relay(0)\n",
    "                time.sleep(0.1)\n",
    "                print(\"debug 1\")\n",
    "                # stop imm\n",
    "                if backend_variables.websocket_payload[\"process_stopped_imm\"]:\n",
    "                    print(\"Process stopped immidietly\")\n",
    "                    return None\n",
    "                # pause\n",
    "                if backend_variables.websocket_payload[\"process_paused\"]:\n",
    "                    print(\"Process paused\")\n",
    "                    backend_variables.websocket_payload['process_status'] = \"paused_knifeup_first\"\n",
    "                    # turn off infra\n",
    "                    while backend_variables.websocket_payload[\"process_paused\"]:\n",
    "                        time.sleep(0.1)\n",
    "            time.sleep(0.1)\n",
    "        else:\n",
    "            time.sleep(2)\n",
    "    time_array = np.append(time_array, time.time())\n",
    "\n",
    "    # config path data\n",
    "    print(\"Writing path definition\")\n",
    "    push_path_def(path_num=1,\n",
    "                        spd_num=spd_num,\n",
    "                        dly_num=0,\n",
    "                        auto_num=0,\n",
    "                        type_num=2,\n",
    "                        acc_num=acc_num,\n",
    "                        dec_num=dec_num)\n",
    "    time.sleep(0.1)\n",
    "    time_array = np.append(time_array, time.time())\n",
    "    print(\"Writing path data\")\n",
    "    push_path_data(path_num=1,\n",
    "                length=length)\n",
    "    time.sleep(0.1)\n",
    "    time_array = np.append(time_array, time.time())\n",
    "\n",
    "    # infra\n",
    "    backend_variables.websocket_payload['process_status'] = \"infra\"\n",
    "    if not backend_variables.websocket_payload['process_stopped_imm']:\n",
    "        # start infra\n",
    "        if not backend_variables.TESTING:\n",
    "            print(\"Infra ON\")\n",
    "            time.sleep(0.05)\n",
    "            backend_variables.myinfra.turn_infra(True)\n",
    "            time.sleep(0.1)\n",
    "        \n",
    "    if backend_variables.websocket_payload['process_stopped_imm']:\n",
    "        print(\"Process stopped\")\n",
    "        if not backend_variables.TESTING:\n",
    "            print(\"Turn infra off\")\n",
    "            backend_variables.myinfra.turn_infra(False)\n",
    "            time.sleep(0.1)\n",
    "        return None\n",
    "\n",
    "    # feed fwd\n",
    "    backend_variables.websocket_payload['process_status'] = \"feedfwd\"\n",
    "    if not backend_variables.websocket_payload['process_stopped_imm']:\n",
    "        # start working path\n",
    "        if not backend_variables.TESTING:\n",
    "            start_pos = backend_variables.myservo.get_axis_pos()\n",
    "            backend_variables.myservo.start_path(1)\n",
    "        else:\n",
    "            time.sleep(5)\n",
    "        time.sleep(0.1)\n",
    "        if not backend_variables.TESTING:\n",
    "            while(int(backend_variables.myservo.poll_eop()) != 1):\n",
    "                time.sleep(0.05)\n",
    "                # stop imm\n",
    "                if backend_variables.websocket_payload[\"process_stopped_imm\"]:\n",
    "                    print(\"Process stopped immidietly\")\n",
    "                    if not backend_variables.TESTING:\n",
    "                        backend_variables.myservo.start_path(1000)\n",
    "                    return None\n",
    "                # pause\n",
    "                if backend_variables.websocket_payload[\"process_paused\"]:\n",
    "                    print(\"Process paused\")\n",
    "                    # infra off\n",
    "                    backend_variables.myinfra.turn_infra(False)\n",
    "                    backend_variables.websocket_payload['process_status'] = \"paused_feedfwd\"\n",
    "                    # stop motor\n",
    "                    if not backend_variables.TESTING:\n",
    "                        backend_variables.myservo.start_path(1000)\n",
    "                    time.sleep(0.5)\n",
    "                    if not backend_variables.TESTING:\n",
    "                        pause_pos = backend_variables.myservo.get_axis_pos()\n",
    "                        print(pause_pos)\n",
    "                        print(start_pos)\n",
    "                        remaining_length = abs(length - abs(int(pause_pos)-int(start_pos))*backend_variables.state[\"path_param\"])\n",
    "                        print(remaining_length)\n",
    "                    while backend_variables.websocket_payload[\"process_paused\"]:\n",
    "                        time.sleep(0.05)\n",
    "                    if not backend_variables.TESTING:\n",
    "                        # infra ON\n",
    "                        backend_variables.myinfra.turn_infra(True)\n",
    "                        push_path_data(path_num=1,\n",
    "                                        length=remaining_length)\n",
    "                        backend_variables.myservo.start_path(1)\n",
    "                    time.sleep(0.5)\n",
    "            else:\n",
    "                time.sleep(1)\n",
    "    if backend_variables.websocket_payload['process_stopped_imm']:\n",
    "        print(\"Process stopped\")\n",
    "        # infra OFF\n",
    "        backend_variables.myinfra.turn_infra(False)\n",
    "        return None\n",
    "    # feedfwd timestamp\n",
    "    time_array = np.append(time_array, time.time())\n",
    "    # infra OFF\n",
    "    time.sleep(0.1)\n",
    "    backend_variables.myinfra.turn_infra(False)\n",
    "    time.sleep(0.1)\n",
    "    backend_variables.websocket_payload['process_status'] = \"cut\"\n",
    "\n",
    "    if not backend_variables.websocket_payload['process_stopped_imm']:\n",
    "        if not backend_variables.TESTING:\n",
    "            backend_variables.myrelay.turn_on_relay(0)\n",
    "            while(backend_variables.myrelay.read_input()[-2] != 0):\n",
    "                backend_variables.myrelay.turn_on_relay(0)\n",
    "                time.sleep(0.1)\n",
    "                # stop imm\n",
    "                if backend_variables.websocket_payload[\"process_stopped_imm\"]:\n",
    "                    print(\"Process stopped immidietly\")\n",
    "                    return None\n",
    "                # pause\n",
    "                if backend_variables.websocket_payload[\"process_paused\"]:\n",
    "                    print(\"Process paused\")\n",
    "                    backend_variables.websocket_payload['process_status'] = \"paused_cut\"\n",
    "                    while backend_variables.websocket_payload[\"process_paused\"]:\n",
    "                        time.sleep(0.05)\n",
    "    if backend_variables.websocket_payload['process_stopped_imm']:\n",
    "        print(\"Breaking single process\")\n",
    "        return None\n",
    "    \n",
    "    # cut down timestamp\n",
    "    time_array = np.append(time_array, time.time())\n",
    "    \n",
    "    backend_variables.websocket_payload['process_status'] = \"wait_after_cut\"\n",
    "\n",
    "    start_tmp = time.time()\n",
    "    if not backend_variables.websocket_payload['process_stopped_imm']:\n",
    "        while((time.time() - start_tmp)*1000 < cut_delay):\n",
    "            time.sleep(0.1)\n",
    "            # stop imm\n",
    "            if backend_variables.websocket_payload[\"process_stopped_imm\"]:\n",
    "                print(\"Process stopped immidietly\")\n",
    "                \n",
    "                return None\n",
    "            # pause\n",
    "            if backend_variables.websocket_payload[\"process_paused\"]:\n",
    "                print(\"Process paused\")\n",
    "                #\n",
    "                backend_variables.websocket_payload['process_status'] = \"paused_wait_after_cut\"\n",
    "                while backend_variables.websocket_payload[\"process_paused\"]:\n",
    "                    time.sleep(0.05)\n",
    "                # infra ON\n",
    "                \n",
    "    if backend_variables.websocket_payload['process_stopped_imm']:\n",
    "        print(\"Breaking single process\")\n",
    "        \n",
    "        \n",
    "        return None\n",
    "    \n",
    "\n",
    "    backend_variables.websocket_payload['process_status'] = \"knife_up_second\"\n",
    "    # cut up\n",
    "    if not backend_variables.websocket_payload['process_stopped_imm']:\n",
    "        if not backend_variables.TESTING:\n",
    "            backend_variables.myrelay.turn_off_relay(0)\n",
    "            while(backend_variables.myrelay.read_input()[-1] != 0):\n",
    "                backend_variables.myrelay.turn_off_relay(0)\n",
    "                time.sleep(0.1)\n",
    "                # stop imm\n",
    "                if backend_variables.websocket_payload[\"process_stopped_imm\"]:\n",
    "                    print(\"Process stopped immidietly\")\n",
    "                    # infra OFF\n",
    "                    \n",
    "                    return None\n",
    "                # pause\n",
    "                if backend_variables.websocket_payload[\"process_paused\"]:\n",
    "                    print(\"Process paused\")\n",
    "                    # infra OFF\n",
    "                    \n",
    "                    backend_variables.websocket_payload['process_status'] = \"paused_knife_up_second\"\n",
    "                    while backend_variables.websocket_payload[\"process_paused\"]:\n",
    "                        time.sleep(0.05)\n",
    "                    \n",
    "    if backend_variables.websocket_payload['process_stopped_imm']:\n",
    "        print(\"Process stopped\")\n",
    "        # infra OFF\n",
    "        \n",
    "        return None\n",
    "\n",
    "    time_array = np.append(time_array, time.time())\n",
    "\n",
    "    for i in range(len(time_names_array)):\n",
    "        print(f\"{time_names_array[i]} : {np.diff(time_array)[i]}\")\n",
    "    \n",
    "    return time.time() - time_array[0]"
   ]
  },
  {
   "cell_type": "code",
   "execution_count": 1,
   "metadata": {},
   "outputs": [
    {
     "name": "stdout",
     "output_type": "stream",
     "text": [
      "Neither /dev/ttyACM1 nor /dev/ttyCH340USB1 is present\n",
      "Neither /dev/ttyACM1 nor /dev/ttyCH340USB1 is present\n"
     ]
    }
   ],
   "source": [
    "\n",
    "import time\n",
    "import backend_variables\n",
    "\n",
    "backend_variables.init()\n",
    "\n",
    "backend_variables.myinfra.begin()\n",
    "backend_variables.myrelay.begin()\n",
    "backend_variables.myservo.begin()\n",
    "\n",
    "backend_variables.myservo.poll_eop()\n",
    "time.sleep(0.1)\n",
    "data = [\n",
    "    15, #spd\n",
    "    15, #acc\n",
    "    15, #dec\n",
    "    500, #length\n",
    "    300, #cut delay\n",
    "    40, #infra percent\n",
    "    1, #infra delay\n",
    "]\n",
    "\n",
    "def push_path_def(path_num: int, spd_num: int, dly_num: int, auto_num: int, type_num: int, acc_num: int,\n",
    "                     dec_num: int):\n",
    "    print(\"Path def writing parameters:\")\n",
    "    print(f\"Path num: {path_num} | Speed num: {spd_num} | Dly num: {dly_num} | Auto num: {auto_num} | Type num: {type_num} | Acc num: {acc_num} | Dec num: {dec_num}\")\n",
    "    # Logic to configure path definition\n",
    "    backend_variables.path_definitions[path_num] = {\n",
    "        \"spd_num\": spd_num,\n",
    "        \"dly_num\": dly_num,\n",
    "        \"auto_num\": auto_num,\n",
    "        \"type_num\": type_num,\n",
    "        \"acc_num\": acc_num,\n",
    "        \"dec_num\": dec_num\n",
    "    }\n",
    "    if not backend_variables.TESTING:\n",
    "        backend_variables.myservo.config_path_def(path_num,\n",
    "                                spd_num,\n",
    "                                dly_num,\n",
    "                                auto_num,\n",
    "                                type_num,\n",
    "                                acc_num,\n",
    "                                dec_num)\n",
    "    print(\"PUSH PATH DEF COMPLETE\")\n",
    "\n",
    "def push_path_data(path_num: int, length):\n",
    "    # Logic to configure path data\n",
    "    backend_variables.path_data[path_num] = {\"length\": length}\n",
    "    if not backend_variables.TESTING:\n",
    "        backend_variables.myservo.config_path_data(path_num,\n",
    "                                -length)\n",
    "    print(\"PUSH PATH DATA COMPLETE\")\n",
    "\n",
    "#cut_process(*data)"
   ]
  },
  {
   "cell_type": "code",
   "execution_count": 1,
   "metadata": {},
   "outputs": [
    {
     "name": "stdout",
     "output_type": "stream",
     "text": [
      "Neither /dev/ttyACM1 nor /dev/ttyCH340USB1 is present\n",
      "Neither /dev/ttyACM1 nor /dev/ttyCH340USB1 is present\n",
      "Neither /dev/ttyACM1 nor /dev/ttyCH340USB1 is present\n",
      "open serial port error could not open port 'COM14': PermissionError(13, 'A hozzáférés megtagadva.', None, 5)\n"
     ]
    },
    {
     "data": {
      "text/plain": [
       "'1'"
      ]
     },
     "execution_count": 1,
     "metadata": {},
     "output_type": "execute_result"
    }
   ],
   "source": [
    "import time\n",
    "import backend_variables\n",
    "\n",
    "backend_variables.init()\n",
    "backend_variables.myinfra.begin()\n",
    "backend_variables.myrelay.begin()\n",
    "backend_variables.myservo.begin()\n",
    "\n",
    "backend_variables.myservo.poll_eop()"
   ]
  },
  {
   "cell_type": "code",
   "execution_count": 2,
   "metadata": {},
   "outputs": [
    {
     "data": {
      "text/plain": [
       "'1'"
      ]
     },
     "execution_count": 2,
     "metadata": {},
     "output_type": "execute_result"
    }
   ],
   "source": [
    "backend_variables.myservo.poll_eop()"
   ]
  },
  {
   "cell_type": "code",
   "execution_count": 4,
   "metadata": {},
   "outputs": [
    {
     "data": {
      "text/plain": [
       "True"
      ]
     },
     "execution_count": 4,
     "metadata": {},
     "output_type": "execute_result"
    }
   ],
   "source": [
    "backend_variables.myinfra.turn_infra(False)"
   ]
  },
  {
   "cell_type": "markdown",
   "metadata": {},
   "source": []
  },
  {
   "cell_type": "code",
   "execution_count": 10,
   "metadata": {},
   "outputs": [
    {
     "name": "stdout",
     "output_type": "stream",
     "text": [
      "Time until ser open: 0.00401759147644043\n",
      "Send Infra config percentage data ex. time: 0.05053138732910156\n",
      "559186\n",
      "-1000\n",
      "-24449877\n",
      "High word: 0xfe8a\n",
      "Low word: 0xecab\n",
      "New data on 0x0606 : 4270517419\n",
      "Write error\n",
      "Infra\n",
      "Time until ser open: 0.0025796890258789062\n",
      "Start path 1\n",
      "Time until ser open: 0.0014696121215820312\n",
      "17.72688937187195\n"
     ]
    }
   ],
   "source": [
    "for i in range(1):\n",
    "    start_time = time.time()\n",
    "    time.sleep(0.3)\n",
    "    backend_variables.myinfra.turn_infra(False)\n",
    "    backend_variables.myinfra.config_percentage(50)\n",
    "    backend_variables.myrelay.turn_off_relay(0)\n",
    "    while(backend_variables.myrelay.read_input()[-1] != 0):\n",
    "        backend_variables.myrelay.turn_off_relay(0)\n",
    "        time.sleep(0.1)\n",
    "    backend_variables.myservo.config_path_def(1,\n",
    "                            8,\n",
    "                            0,\n",
    "                            0,\n",
    "                            2,\n",
    "                            8,\n",
    "                            8)\n",
    "\n",
    "    backend_variables.myservo.config_path_data(1,\n",
    "                    -1000)\n",
    "    print(\"Infra\")\n",
    "    time.sleep(0.3)\n",
    "    backend_variables.myinfra.turn_infra(True)\n",
    "    time.sleep(0.1)\n",
    "    backend_variables.myservo.start_path(1)\n",
    "    time.sleep(0.1)\n",
    "    while(int(backend_variables.myservo.poll_eop()) != 1):\n",
    "        time.sleep(0.05)\n",
    "    time.sleep(0.2)\n",
    "    backend_variables.myinfra.turn_infra(False)\n",
    "    backend_variables.myrelay.turn_on_relay(0)\n",
    "    while(backend_variables.myrelay.read_input()[-2] != 0):\n",
    "        backend_variables.myrelay.turn_on_relay(0)\n",
    "        time.sleep(0.05)\n",
    "    time.sleep(0.3)\n",
    "    while(backend_variables.myrelay.read_input()[-1] != 0):\n",
    "        backend_variables.myrelay.turn_off_relay(0)\n",
    "        time.sleep(0.1)\n",
    "\n",
    "    print(f\"{time.time()-start_time}\")"
   ]
  },
  {
   "cell_type": "code",
   "execution_count": 5,
   "metadata": {},
   "outputs": [
    {
     "data": {
      "text/plain": [
       "True"
      ]
     },
     "execution_count": 5,
     "metadata": {},
     "output_type": "execute_result"
    }
   ],
   "source": [
    "backend_variables.myinfra.config_percentage(20)"
   ]
  },
  {
   "cell_type": "code",
   "execution_count": 6,
   "metadata": {},
   "outputs": [
    {
     "name": "stdout",
     "output_type": "stream",
     "text": [
      "1\n",
      "1\n",
      "1\n",
      "1\n",
      "1\n",
      "1\n",
      "1\n",
      "1\n",
      "1\n",
      "1\n",
      "1\n",
      "1\n",
      "1\n",
      "1\n",
      "1\n",
      "1\n",
      "1\n",
      "1\n",
      "1\n",
      "1\n",
      "1\n",
      "1\n",
      "1\n",
      "1\n",
      "1\n",
      "1\n",
      "1\n",
      "1\n",
      "1\n",
      "1\n",
      "1\n",
      "1\n",
      "1\n",
      "1\n",
      "1\n",
      "1\n",
      "1\n",
      "1\n",
      "1\n",
      "1\n",
      "1\n",
      "1\n",
      "1\n",
      "1\n",
      "1\n",
      "1\n",
      "1\n",
      "1\n",
      "1\n",
      "1\n",
      "1\n",
      "1\n",
      "1\n",
      "1\n",
      "1\n",
      "1\n",
      "1\n",
      "1\n",
      "1\n",
      "1\n",
      "1\n",
      "1\n",
      "1\n",
      "1\n",
      "1\n",
      "1\n",
      "1\n",
      "1\n",
      "1\n",
      "1\n",
      "1\n",
      "1\n",
      "1\n",
      "1\n",
      "1\n",
      "1\n",
      "1\n",
      "1\n",
      "1\n",
      "1\n",
      "1\n",
      "1\n",
      "1\n",
      "1\n",
      "1\n",
      "1\n",
      "1\n",
      "1\n",
      "1\n",
      "1\n",
      "1\n",
      "1\n",
      "1\n",
      "1\n",
      "1\n",
      "1\n",
      "1\n",
      "1\n",
      "1\n",
      "1\n"
     ]
    }
   ],
   "source": [
    "for i in range(100):\n",
    "    time.sleep(0.1)\n",
    "    backend_variables.myinfra.turn_infra(True)\n",
    "    time.sleep(0.1)\n",
    "    backend_variables.myinfra.turn_infra(False)\n",
    "    time.sleep(0.2)\n",
    "    print(backend_variables.myservo.poll_eop())\n",
    "    "
   ]
  },
  {
   "cell_type": "code",
   "execution_count": 6,
   "metadata": {},
   "outputs": [],
   "source": [
    "backend_variables.myinfra.turn_infra(False)"
   ]
  },
  {
   "cell_type": "code",
   "execution_count": 4,
   "metadata": {},
   "outputs": [
    {
     "name": "stdout",
     "output_type": "stream",
     "text": [
      "Start path 1\n"
     ]
    }
   ],
   "source": [
    "backend_variables.myservo.start_path(1)"
   ]
  },
  {
   "cell_type": "code",
   "execution_count": 5,
   "metadata": {},
   "outputs": [
    {
     "data": {
      "text/plain": [
       "'1'"
      ]
     },
     "execution_count": 5,
     "metadata": {},
     "output_type": "execute_result"
    }
   ],
   "source": [
    "backend_variables.myservo.poll_eop()"
   ]
  },
  {
   "cell_type": "code",
   "execution_count": 1,
   "metadata": {},
   "outputs": [
    {
     "name": "stdout",
     "output_type": "stream",
     "text": [
      "Initial value of register 10: 0\n",
      "Wrote 20 to register 10\n",
      "Updated value of register 10: 20\n"
     ]
    }
   ],
   "source": [
    "import minimalmodbus\n",
    "import time\n",
    "\n",
    "# Define slave ID and register number\n",
    "SLAVE_ID = 105\n",
    "REGISTER_NUMBER = 10\n",
    "\n",
    "\n",
    "# Define the serial port\n",
    "# Replace '/dev/ttyUSB0' with your serial port on Linux/Mac\n",
    "# Replace 'COM3' with your serial port on Windows\n",
    "SERIAL_PORT = 'COM14'\n",
    "\n",
    "# Create the instrument object\n",
    "instrument = minimalmodbus.Instrument(SERIAL_PORT, SLAVE_ID)\n",
    "instrument.serial.baudrate = 115200\n",
    "instrument.serial.bytesize = 8\n",
    "instrument.serial.parity = minimalmodbus.serial.PARITY_NONE\n",
    "instrument.serial.stopbits = 1\n",
    "instrument.serial.timeout = 1\n",
    "\n",
    "try:\n",
    "    # Read the initial value of the register\n",
    "    initial_value = instrument.read_register(REGISTER_NUMBER)\n",
    "    print(f\"Initial value of register {REGISTER_NUMBER}: {initial_value}\")\n",
    "\n",
    "    # Write a new value to the register\n",
    "    new_value = 20\n",
    "    instrument.write_register(REGISTER_NUMBER, new_value)\n",
    "    print(f\"Wrote {new_value} to register {REGISTER_NUMBER}\")\n",
    "\n",
    "    # Read the updated value of the register\n",
    "    updated_value = instrument.read_register(REGISTER_NUMBER)\n",
    "    print(f\"Updated value of register {REGISTER_NUMBER}: {updated_value}\")\n",
    "\n",
    "except Exception as e:\n",
    "    print(f\"Error: {e}\")\n",
    "\n",
    "# Wait for a moment before exiting\n",
    "time.sleep(1)\n"
   ]
  },
  {
   "cell_type": "code",
   "execution_count": 2,
   "metadata": {},
   "outputs": [
    {
     "data": {
      "text/plain": [
       "0"
      ]
     },
     "execution_count": 2,
     "metadata": {},
     "output_type": "execute_result"
    }
   ],
   "source": [
    "COIL = 100\n",
    "instrument.read_register(COIL)"
   ]
  },
  {
   "cell_type": "code",
   "execution_count": 10,
   "metadata": {},
   "outputs": [],
   "source": [
    "instrument.write_register(COIL,0)"
   ]
  },
  {
   "cell_type": "code",
   "execution_count": 9,
   "metadata": {},
   "outputs": [],
   "source": [
    "new_value = 20\n",
    "instrument.write_register(REGISTER_NUMBER, new_value)"
   ]
  },
  {
   "cell_type": "code",
   "execution_count": 1,
   "metadata": {},
   "outputs": [
    {
     "name": "stdout",
     "output_type": "stream",
     "text": [
      "Neither /dev/ttyACM1 nor /dev/ttyCH340USB1 is present\n",
      "Neither /dev/ttyACM1 nor /dev/ttyCH340USB1 is present\n"
     ]
    }
   ],
   "source": [
    "import backend_variables\n",
    "\n",
    "backend_variables.init()\n",
    "\n",
    "backend_variables.myinfra.begin()\n",
    "\n"
   ]
  },
  {
   "cell_type": "code",
   "execution_count": 2,
   "metadata": {},
   "outputs": [
    {
     "data": {
      "text/plain": [
       "True"
      ]
     },
     "execution_count": 2,
     "metadata": {},
     "output_type": "execute_result"
    }
   ],
   "source": [
    "backend_variables.myinfra.turn_infra(True)\n",
    "\n",
    "backend_variables.myinfra.config_percentage(20)"
   ]
  },
  {
   "cell_type": "code",
   "execution_count": 3,
   "metadata": {},
   "outputs": [
    {
     "data": {
      "text/plain": [
       "True"
      ]
     },
     "execution_count": 3,
     "metadata": {},
     "output_type": "execute_result"
    }
   ],
   "source": [
    "backend_variables.myinfra.turn_infra(True)\n",
    "\n",
    "backend_variables.myinfra.config_percentage(0)"
   ]
  },
  {
   "cell_type": "code",
   "execution_count": 2,
   "metadata": {},
   "outputs": [
    {
     "name": "stdout",
     "output_type": "stream",
     "text": [
      "{'id': '', 'name': 'testarray', 'elements': [{'number': 1, 'length': '0100', 'cutDelay': '0100', 'speed': '7', 'acc': '8', 'dec': '8', 'infPercent': '50', 'infDelay': '10', 'count': '10', 'ph': 0}, {'number': 2, 'length': '0200', 'cutDelay': '100', 'speed': '10', 'acc': '10', 'dec': '9', 'infPercent': '90', 'infDelay': '10', 'count': '05', 'ph': 0}]}\n"
     ]
    }
   ],
   "source": [
    "import json\n",
    "\n",
    "with open(\"arrays/testarray.json\",\"r\") as file:\n",
    "    data = json.load(file)\n",
    "    print(data)"
   ]
  },
  {
   "cell_type": "code",
   "execution_count": null,
   "metadata": {},
   "outputs": [],
   "source": []
  }
 ],
 "metadata": {
  "kernelspec": {
   "display_name": "venv",
   "language": "python",
   "name": "python3"
  },
  "language_info": {
   "codemirror_mode": {
    "name": "ipython",
    "version": 3
   },
   "file_extension": ".py",
   "mimetype": "text/x-python",
   "name": "python",
   "nbconvert_exporter": "python",
   "pygments_lexer": "ipython3",
   "version": "3.11.9"
  }
 },
 "nbformat": 4,
 "nbformat_minor": 2
}
